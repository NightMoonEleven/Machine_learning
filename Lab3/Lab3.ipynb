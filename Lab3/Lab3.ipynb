{
 "cells": [
  {
   "cell_type": "markdown",
   "metadata": {},
   "source": [
    "Лабораторная работа №3\n",
    "Курьянов Александр Игоревич\n",
    "Группа: РТ5-61Б\n",
    "    \n",
    "Выбрать набор данных (датасет), содержащий категориальные признаки и пропуски в данных. Для выполнения следующих пунктов можно использовать несколько различных наборов данных (один для обработки пропусков, другой для категориальных признаков и т.д.)\n",
    "Для выбранного датасета (датасетов) на основе материалов лекции решить следующие задачи:\n",
    "1 - обработку пропусков в данных;\n",
    "2 - кодирование категориальных признаков;\n",
    "3 - масштабирование данных.\n",
    "\n",
    "Датасет: https://www.kaggle.com/fivethirtyeight/fivethirtyeight-comic-characters-dataset\n",
    "    "
   ]
  },
  {
   "cell_type": "code",
   "execution_count": 1,
   "metadata": {},
   "outputs": [],
   "source": [
    "import numpy as np\n",
    "import pandas as pd\n",
    "import seaborn as sns\n",
    "import matplotlib.pyplot as plt\n",
    "%matplotlib inline \n",
    "sns.set(style=\"ticks\")"
   ]
  },
  {
   "cell_type": "code",
   "execution_count": 5,
   "metadata": {},
   "outputs": [],
   "source": [
    "data = pd.read_csv('data/dc-wikia-data.csv', sep=\",\")"
   ]
  },
  {
   "cell_type": "code",
   "execution_count": 6,
   "metadata": {},
   "outputs": [
    {
     "data": {
      "text/plain": [
       "(6896, 13)"
      ]
     },
     "execution_count": 6,
     "metadata": {},
     "output_type": "execute_result"
    }
   ],
   "source": [
    "data.shape"
   ]
  },
  {
   "cell_type": "code",
   "execution_count": 7,
   "metadata": {},
   "outputs": [
    {
     "data": {
      "text/plain": [
       "page_id                0\n",
       "name                   0\n",
       "urlslug                0\n",
       "ID                  2013\n",
       "ALIGN                601\n",
       "EYE                 3628\n",
       "HAIR                2274\n",
       "SEX                  125\n",
       "GSM                 6832\n",
       "ALIVE                  3\n",
       "APPEARANCES          355\n",
       "FIRST APPEARANCE      69\n",
       "YEAR                  69\n",
       "dtype: int64"
      ]
     },
     "execution_count": 7,
     "metadata": {},
     "output_type": "execute_result"
    }
   ],
   "source": [
    "data.isnull().sum()"
   ]
  },
  {
   "cell_type": "code",
   "execution_count": 8,
   "metadata": {},
   "outputs": [
    {
     "data": {
      "text/html": [
       "<div>\n",
       "<style scoped>\n",
       "    .dataframe tbody tr th:only-of-type {\n",
       "        vertical-align: middle;\n",
       "    }\n",
       "\n",
       "    .dataframe tbody tr th {\n",
       "        vertical-align: top;\n",
       "    }\n",
       "\n",
       "    .dataframe thead th {\n",
       "        text-align: right;\n",
       "    }\n",
       "</style>\n",
       "<table border=\"1\" class=\"dataframe\">\n",
       "  <thead>\n",
       "    <tr style=\"text-align: right;\">\n",
       "      <th></th>\n",
       "      <th>page_id</th>\n",
       "      <th>name</th>\n",
       "      <th>urlslug</th>\n",
       "      <th>ID</th>\n",
       "      <th>ALIGN</th>\n",
       "      <th>EYE</th>\n",
       "      <th>HAIR</th>\n",
       "      <th>SEX</th>\n",
       "      <th>GSM</th>\n",
       "      <th>ALIVE</th>\n",
       "      <th>APPEARANCES</th>\n",
       "      <th>FIRST APPEARANCE</th>\n",
       "      <th>YEAR</th>\n",
       "    </tr>\n",
       "  </thead>\n",
       "  <tbody>\n",
       "    <tr>\n",
       "      <th>0</th>\n",
       "      <td>1422</td>\n",
       "      <td>Batman (Bruce Wayne)</td>\n",
       "      <td>\\/wiki\\/Batman_(Bruce_Wayne)</td>\n",
       "      <td>Secret Identity</td>\n",
       "      <td>Good Characters</td>\n",
       "      <td>Blue Eyes</td>\n",
       "      <td>Black Hair</td>\n",
       "      <td>Male Characters</td>\n",
       "      <td>NaN</td>\n",
       "      <td>Living Characters</td>\n",
       "      <td>3093.0</td>\n",
       "      <td>1939, May</td>\n",
       "      <td>1939.0</td>\n",
       "    </tr>\n",
       "    <tr>\n",
       "      <th>1</th>\n",
       "      <td>23387</td>\n",
       "      <td>Superman (Clark Kent)</td>\n",
       "      <td>\\/wiki\\/Superman_(Clark_Kent)</td>\n",
       "      <td>Secret Identity</td>\n",
       "      <td>Good Characters</td>\n",
       "      <td>Blue Eyes</td>\n",
       "      <td>Black Hair</td>\n",
       "      <td>Male Characters</td>\n",
       "      <td>NaN</td>\n",
       "      <td>Living Characters</td>\n",
       "      <td>2496.0</td>\n",
       "      <td>1986, October</td>\n",
       "      <td>1986.0</td>\n",
       "    </tr>\n",
       "    <tr>\n",
       "      <th>2</th>\n",
       "      <td>1458</td>\n",
       "      <td>Green Lantern (Hal Jordan)</td>\n",
       "      <td>\\/wiki\\/Green_Lantern_(Hal_Jordan)</td>\n",
       "      <td>Secret Identity</td>\n",
       "      <td>Good Characters</td>\n",
       "      <td>Brown Eyes</td>\n",
       "      <td>Brown Hair</td>\n",
       "      <td>Male Characters</td>\n",
       "      <td>NaN</td>\n",
       "      <td>Living Characters</td>\n",
       "      <td>1565.0</td>\n",
       "      <td>1959, October</td>\n",
       "      <td>1959.0</td>\n",
       "    </tr>\n",
       "    <tr>\n",
       "      <th>3</th>\n",
       "      <td>1659</td>\n",
       "      <td>James Gordon (New Earth)</td>\n",
       "      <td>\\/wiki\\/James_Gordon_(New_Earth)</td>\n",
       "      <td>Public Identity</td>\n",
       "      <td>Good Characters</td>\n",
       "      <td>Brown Eyes</td>\n",
       "      <td>White Hair</td>\n",
       "      <td>Male Characters</td>\n",
       "      <td>NaN</td>\n",
       "      <td>Living Characters</td>\n",
       "      <td>1316.0</td>\n",
       "      <td>1987, February</td>\n",
       "      <td>1987.0</td>\n",
       "    </tr>\n",
       "    <tr>\n",
       "      <th>4</th>\n",
       "      <td>1576</td>\n",
       "      <td>Richard Grayson (New Earth)</td>\n",
       "      <td>\\/wiki\\/Richard_Grayson_(New_Earth)</td>\n",
       "      <td>Secret Identity</td>\n",
       "      <td>Good Characters</td>\n",
       "      <td>Blue Eyes</td>\n",
       "      <td>Black Hair</td>\n",
       "      <td>Male Characters</td>\n",
       "      <td>NaN</td>\n",
       "      <td>Living Characters</td>\n",
       "      <td>1237.0</td>\n",
       "      <td>1940, April</td>\n",
       "      <td>1940.0</td>\n",
       "    </tr>\n",
       "  </tbody>\n",
       "</table>\n",
       "</div>"
      ],
      "text/plain": [
       "   page_id                         name                              urlslug  \\\n",
       "0     1422         Batman (Bruce Wayne)         \\/wiki\\/Batman_(Bruce_Wayne)   \n",
       "1    23387        Superman (Clark Kent)        \\/wiki\\/Superman_(Clark_Kent)   \n",
       "2     1458   Green Lantern (Hal Jordan)   \\/wiki\\/Green_Lantern_(Hal_Jordan)   \n",
       "3     1659     James Gordon (New Earth)     \\/wiki\\/James_Gordon_(New_Earth)   \n",
       "4     1576  Richard Grayson (New Earth)  \\/wiki\\/Richard_Grayson_(New_Earth)   \n",
       "\n",
       "                ID            ALIGN         EYE        HAIR              SEX  \\\n",
       "0  Secret Identity  Good Characters   Blue Eyes  Black Hair  Male Characters   \n",
       "1  Secret Identity  Good Characters   Blue Eyes  Black Hair  Male Characters   \n",
       "2  Secret Identity  Good Characters  Brown Eyes  Brown Hair  Male Characters   \n",
       "3  Public Identity  Good Characters  Brown Eyes  White Hair  Male Characters   \n",
       "4  Secret Identity  Good Characters   Blue Eyes  Black Hair  Male Characters   \n",
       "\n",
       "   GSM              ALIVE  APPEARANCES FIRST APPEARANCE    YEAR  \n",
       "0  NaN  Living Characters       3093.0        1939, May  1939.0  \n",
       "1  NaN  Living Characters       2496.0    1986, October  1986.0  \n",
       "2  NaN  Living Characters       1565.0    1959, October  1959.0  \n",
       "3  NaN  Living Characters       1316.0   1987, February  1987.0  \n",
       "4  NaN  Living Characters       1237.0      1940, April  1940.0  "
      ]
     },
     "execution_count": 8,
     "metadata": {},
     "output_type": "execute_result"
    }
   ],
   "source": [
    "data.head()"
   ]
  },
  {
   "cell_type": "code",
   "execution_count": 10,
   "metadata": {},
   "outputs": [
    {
     "name": "stdout",
     "output_type": "stream",
     "text": [
      "Всего строк: 6896\n"
     ]
    }
   ],
   "source": [
    "total_count = data.shape[0]\n",
    "print('Всего строк: {}'.format(total_count))"
   ]
  },
  {
   "cell_type": "markdown",
   "metadata": {},
   "source": [
    "1 Обработка пропусков в данных"
   ]
  },
  {
   "cell_type": "code",
   "execution_count": 11,
   "metadata": {},
   "outputs": [
    {
     "data": {
      "text/plain": [
       "((6896, 13), (6896, 3))"
      ]
     },
     "execution_count": 11,
     "metadata": {},
     "output_type": "execute_result"
    }
   ],
   "source": [
    "# Удаление колонок, содержащих пустые значения\n",
    "data_new_1 = data.dropna(axis=1, how='any')\n",
    "(data.shape, data_new_1.shape)"
   ]
  },
  {
   "cell_type": "code",
   "execution_count": 12,
   "metadata": {},
   "outputs": [
    {
     "data": {
      "text/plain": [
       "((6896, 13), (38, 13))"
      ]
     },
     "execution_count": 12,
     "metadata": {},
     "output_type": "execute_result"
    }
   ],
   "source": [
    "# Удаление строк, содержащих пустые значения\n",
    "data_new_2 = data.dropna(axis=0, how='any')\n",
    "(data.shape, data_new_2.shape)"
   ]
  },
  {
   "cell_type": "code",
   "execution_count": 13,
   "metadata": {},
   "outputs": [
    {
     "data": {
      "text/html": [
       "<div>\n",
       "<style scoped>\n",
       "    .dataframe tbody tr th:only-of-type {\n",
       "        vertical-align: middle;\n",
       "    }\n",
       "\n",
       "    .dataframe tbody tr th {\n",
       "        vertical-align: top;\n",
       "    }\n",
       "\n",
       "    .dataframe thead th {\n",
       "        text-align: right;\n",
       "    }\n",
       "</style>\n",
       "<table border=\"1\" class=\"dataframe\">\n",
       "  <thead>\n",
       "    <tr style=\"text-align: right;\">\n",
       "      <th></th>\n",
       "      <th>page_id</th>\n",
       "      <th>name</th>\n",
       "      <th>urlslug</th>\n",
       "      <th>ID</th>\n",
       "      <th>ALIGN</th>\n",
       "      <th>EYE</th>\n",
       "      <th>HAIR</th>\n",
       "      <th>SEX</th>\n",
       "      <th>GSM</th>\n",
       "      <th>ALIVE</th>\n",
       "      <th>APPEARANCES</th>\n",
       "      <th>FIRST APPEARANCE</th>\n",
       "      <th>YEAR</th>\n",
       "    </tr>\n",
       "  </thead>\n",
       "  <tbody>\n",
       "    <tr>\n",
       "      <th>0</th>\n",
       "      <td>1422</td>\n",
       "      <td>Batman (Bruce Wayne)</td>\n",
       "      <td>\\/wiki\\/Batman_(Bruce_Wayne)</td>\n",
       "      <td>Secret Identity</td>\n",
       "      <td>Good Characters</td>\n",
       "      <td>Blue Eyes</td>\n",
       "      <td>Black Hair</td>\n",
       "      <td>Male Characters</td>\n",
       "      <td>NaN</td>\n",
       "      <td>Living Characters</td>\n",
       "      <td>3093.0</td>\n",
       "      <td>1939, May</td>\n",
       "      <td>1939.0</td>\n",
       "    </tr>\n",
       "    <tr>\n",
       "      <th>1</th>\n",
       "      <td>23387</td>\n",
       "      <td>Superman (Clark Kent)</td>\n",
       "      <td>\\/wiki\\/Superman_(Clark_Kent)</td>\n",
       "      <td>Secret Identity</td>\n",
       "      <td>Good Characters</td>\n",
       "      <td>Blue Eyes</td>\n",
       "      <td>Black Hair</td>\n",
       "      <td>Male Characters</td>\n",
       "      <td>NaN</td>\n",
       "      <td>Living Characters</td>\n",
       "      <td>2496.0</td>\n",
       "      <td>1986, October</td>\n",
       "      <td>1986.0</td>\n",
       "    </tr>\n",
       "    <tr>\n",
       "      <th>2</th>\n",
       "      <td>1458</td>\n",
       "      <td>Green Lantern (Hal Jordan)</td>\n",
       "      <td>\\/wiki\\/Green_Lantern_(Hal_Jordan)</td>\n",
       "      <td>Secret Identity</td>\n",
       "      <td>Good Characters</td>\n",
       "      <td>Brown Eyes</td>\n",
       "      <td>Brown Hair</td>\n",
       "      <td>Male Characters</td>\n",
       "      <td>NaN</td>\n",
       "      <td>Living Characters</td>\n",
       "      <td>1565.0</td>\n",
       "      <td>1959, October</td>\n",
       "      <td>1959.0</td>\n",
       "    </tr>\n",
       "    <tr>\n",
       "      <th>3</th>\n",
       "      <td>1659</td>\n",
       "      <td>James Gordon (New Earth)</td>\n",
       "      <td>\\/wiki\\/James_Gordon_(New_Earth)</td>\n",
       "      <td>Public Identity</td>\n",
       "      <td>Good Characters</td>\n",
       "      <td>Brown Eyes</td>\n",
       "      <td>White Hair</td>\n",
       "      <td>Male Characters</td>\n",
       "      <td>NaN</td>\n",
       "      <td>Living Characters</td>\n",
       "      <td>1316.0</td>\n",
       "      <td>1987, February</td>\n",
       "      <td>1987.0</td>\n",
       "    </tr>\n",
       "    <tr>\n",
       "      <th>4</th>\n",
       "      <td>1576</td>\n",
       "      <td>Richard Grayson (New Earth)</td>\n",
       "      <td>\\/wiki\\/Richard_Grayson_(New_Earth)</td>\n",
       "      <td>Secret Identity</td>\n",
       "      <td>Good Characters</td>\n",
       "      <td>Blue Eyes</td>\n",
       "      <td>Black Hair</td>\n",
       "      <td>Male Characters</td>\n",
       "      <td>NaN</td>\n",
       "      <td>Living Characters</td>\n",
       "      <td>1237.0</td>\n",
       "      <td>1940, April</td>\n",
       "      <td>1940.0</td>\n",
       "    </tr>\n",
       "  </tbody>\n",
       "</table>\n",
       "</div>"
      ],
      "text/plain": [
       "   page_id                         name                              urlslug  \\\n",
       "0     1422         Batman (Bruce Wayne)         \\/wiki\\/Batman_(Bruce_Wayne)   \n",
       "1    23387        Superman (Clark Kent)        \\/wiki\\/Superman_(Clark_Kent)   \n",
       "2     1458   Green Lantern (Hal Jordan)   \\/wiki\\/Green_Lantern_(Hal_Jordan)   \n",
       "3     1659     James Gordon (New Earth)     \\/wiki\\/James_Gordon_(New_Earth)   \n",
       "4     1576  Richard Grayson (New Earth)  \\/wiki\\/Richard_Grayson_(New_Earth)   \n",
       "\n",
       "                ID            ALIGN         EYE        HAIR              SEX  \\\n",
       "0  Secret Identity  Good Characters   Blue Eyes  Black Hair  Male Characters   \n",
       "1  Secret Identity  Good Characters   Blue Eyes  Black Hair  Male Characters   \n",
       "2  Secret Identity  Good Characters  Brown Eyes  Brown Hair  Male Characters   \n",
       "3  Public Identity  Good Characters  Brown Eyes  White Hair  Male Characters   \n",
       "4  Secret Identity  Good Characters   Blue Eyes  Black Hair  Male Characters   \n",
       "\n",
       "   GSM              ALIVE  APPEARANCES FIRST APPEARANCE    YEAR  \n",
       "0  NaN  Living Characters       3093.0        1939, May  1939.0  \n",
       "1  NaN  Living Characters       2496.0    1986, October  1986.0  \n",
       "2  NaN  Living Characters       1565.0    1959, October  1959.0  \n",
       "3  NaN  Living Characters       1316.0   1987, February  1987.0  \n",
       "4  NaN  Living Characters       1237.0      1940, April  1940.0  "
      ]
     },
     "execution_count": 13,
     "metadata": {},
     "output_type": "execute_result"
    }
   ],
   "source": [
    "data.head()"
   ]
  },
  {
   "cell_type": "code",
   "execution_count": 14,
   "metadata": {},
   "outputs": [
    {
     "data": {
      "text/html": [
       "<div>\n",
       "<style scoped>\n",
       "    .dataframe tbody tr th:only-of-type {\n",
       "        vertical-align: middle;\n",
       "    }\n",
       "\n",
       "    .dataframe tbody tr th {\n",
       "        vertical-align: top;\n",
       "    }\n",
       "\n",
       "    .dataframe thead th {\n",
       "        text-align: right;\n",
       "    }\n",
       "</style>\n",
       "<table border=\"1\" class=\"dataframe\">\n",
       "  <thead>\n",
       "    <tr style=\"text-align: right;\">\n",
       "      <th></th>\n",
       "      <th>page_id</th>\n",
       "      <th>name</th>\n",
       "      <th>urlslug</th>\n",
       "      <th>ID</th>\n",
       "      <th>ALIGN</th>\n",
       "      <th>EYE</th>\n",
       "      <th>HAIR</th>\n",
       "      <th>SEX</th>\n",
       "      <th>GSM</th>\n",
       "      <th>ALIVE</th>\n",
       "      <th>APPEARANCES</th>\n",
       "      <th>FIRST APPEARANCE</th>\n",
       "      <th>YEAR</th>\n",
       "    </tr>\n",
       "  </thead>\n",
       "  <tbody>\n",
       "    <tr>\n",
       "      <th>0</th>\n",
       "      <td>1422</td>\n",
       "      <td>Batman (Bruce Wayne)</td>\n",
       "      <td>\\/wiki\\/Batman_(Bruce_Wayne)</td>\n",
       "      <td>Secret Identity</td>\n",
       "      <td>Good Characters</td>\n",
       "      <td>Blue Eyes</td>\n",
       "      <td>Black Hair</td>\n",
       "      <td>Male Characters</td>\n",
       "      <td>0</td>\n",
       "      <td>Living Characters</td>\n",
       "      <td>3093.0</td>\n",
       "      <td>1939, May</td>\n",
       "      <td>1939.0</td>\n",
       "    </tr>\n",
       "    <tr>\n",
       "      <th>1</th>\n",
       "      <td>23387</td>\n",
       "      <td>Superman (Clark Kent)</td>\n",
       "      <td>\\/wiki\\/Superman_(Clark_Kent)</td>\n",
       "      <td>Secret Identity</td>\n",
       "      <td>Good Characters</td>\n",
       "      <td>Blue Eyes</td>\n",
       "      <td>Black Hair</td>\n",
       "      <td>Male Characters</td>\n",
       "      <td>0</td>\n",
       "      <td>Living Characters</td>\n",
       "      <td>2496.0</td>\n",
       "      <td>1986, October</td>\n",
       "      <td>1986.0</td>\n",
       "    </tr>\n",
       "    <tr>\n",
       "      <th>2</th>\n",
       "      <td>1458</td>\n",
       "      <td>Green Lantern (Hal Jordan)</td>\n",
       "      <td>\\/wiki\\/Green_Lantern_(Hal_Jordan)</td>\n",
       "      <td>Secret Identity</td>\n",
       "      <td>Good Characters</td>\n",
       "      <td>Brown Eyes</td>\n",
       "      <td>Brown Hair</td>\n",
       "      <td>Male Characters</td>\n",
       "      <td>0</td>\n",
       "      <td>Living Characters</td>\n",
       "      <td>1565.0</td>\n",
       "      <td>1959, October</td>\n",
       "      <td>1959.0</td>\n",
       "    </tr>\n",
       "    <tr>\n",
       "      <th>3</th>\n",
       "      <td>1659</td>\n",
       "      <td>James Gordon (New Earth)</td>\n",
       "      <td>\\/wiki\\/James_Gordon_(New_Earth)</td>\n",
       "      <td>Public Identity</td>\n",
       "      <td>Good Characters</td>\n",
       "      <td>Brown Eyes</td>\n",
       "      <td>White Hair</td>\n",
       "      <td>Male Characters</td>\n",
       "      <td>0</td>\n",
       "      <td>Living Characters</td>\n",
       "      <td>1316.0</td>\n",
       "      <td>1987, February</td>\n",
       "      <td>1987.0</td>\n",
       "    </tr>\n",
       "    <tr>\n",
       "      <th>4</th>\n",
       "      <td>1576</td>\n",
       "      <td>Richard Grayson (New Earth)</td>\n",
       "      <td>\\/wiki\\/Richard_Grayson_(New_Earth)</td>\n",
       "      <td>Secret Identity</td>\n",
       "      <td>Good Characters</td>\n",
       "      <td>Blue Eyes</td>\n",
       "      <td>Black Hair</td>\n",
       "      <td>Male Characters</td>\n",
       "      <td>0</td>\n",
       "      <td>Living Characters</td>\n",
       "      <td>1237.0</td>\n",
       "      <td>1940, April</td>\n",
       "      <td>1940.0</td>\n",
       "    </tr>\n",
       "  </tbody>\n",
       "</table>\n",
       "</div>"
      ],
      "text/plain": [
       "   page_id                         name                              urlslug  \\\n",
       "0     1422         Batman (Bruce Wayne)         \\/wiki\\/Batman_(Bruce_Wayne)   \n",
       "1    23387        Superman (Clark Kent)        \\/wiki\\/Superman_(Clark_Kent)   \n",
       "2     1458   Green Lantern (Hal Jordan)   \\/wiki\\/Green_Lantern_(Hal_Jordan)   \n",
       "3     1659     James Gordon (New Earth)     \\/wiki\\/James_Gordon_(New_Earth)   \n",
       "4     1576  Richard Grayson (New Earth)  \\/wiki\\/Richard_Grayson_(New_Earth)   \n",
       "\n",
       "                ID            ALIGN         EYE        HAIR              SEX  \\\n",
       "0  Secret Identity  Good Characters   Blue Eyes  Black Hair  Male Characters   \n",
       "1  Secret Identity  Good Characters   Blue Eyes  Black Hair  Male Characters   \n",
       "2  Secret Identity  Good Characters  Brown Eyes  Brown Hair  Male Characters   \n",
       "3  Public Identity  Good Characters  Brown Eyes  White Hair  Male Characters   \n",
       "4  Secret Identity  Good Characters   Blue Eyes  Black Hair  Male Characters   \n",
       "\n",
       "  GSM              ALIVE  APPEARANCES FIRST APPEARANCE    YEAR  \n",
       "0   0  Living Characters       3093.0        1939, May  1939.0  \n",
       "1   0  Living Characters       2496.0    1986, October  1986.0  \n",
       "2   0  Living Characters       1565.0    1959, October  1959.0  \n",
       "3   0  Living Characters       1316.0   1987, February  1987.0  \n",
       "4   0  Living Characters       1237.0      1940, April  1940.0  "
      ]
     },
     "execution_count": 14,
     "metadata": {},
     "output_type": "execute_result"
    }
   ],
   "source": [
    "# Заполнение всех пропущенных значений нулями\n",
    "data_new_3 = data.fillna(0)\n",
    "data_new_3.head()"
   ]
  },
  {
   "cell_type": "code",
   "execution_count": 15,
   "metadata": {},
   "outputs": [
    {
     "name": "stdout",
     "output_type": "stream",
     "text": [
      "Колонка APPEARANCES. Тип данных float64. Количество пустых значений 355, 5.15%.\n",
      "Колонка YEAR. Тип данных float64. Количество пустых значений 69, 1.0%.\n"
     ]
    }
   ],
   "source": [
    "\n",
    "# Выберем числовые колонки с пропущенными значениями\n",
    "# Цикл по колонкам датасета\n",
    "num_cols = []\n",
    "for col in data.columns:\n",
    "    # Количество пустых значений \n",
    "    temp_null_count = data[data[col].isnull()].shape[0]\n",
    "    dt = str(data[col].dtype)\n",
    "    if temp_null_count>0 and (dt=='float64' or dt=='int64'):\n",
    "        num_cols.append(col)\n",
    "        temp_perc = round((temp_null_count / total_count) * 100.0, 2)\n",
    "        print('Колонка {}. Тип данных {}. Количество пустых значений {}, {}%.'.format(col, dt, temp_null_count, temp_perc))"
   ]
  },
  {
   "cell_type": "code",
   "execution_count": 16,
   "metadata": {},
   "outputs": [
    {
     "data": {
      "text/html": [
       "<div>\n",
       "<style scoped>\n",
       "    .dataframe tbody tr th:only-of-type {\n",
       "        vertical-align: middle;\n",
       "    }\n",
       "\n",
       "    .dataframe tbody tr th {\n",
       "        vertical-align: top;\n",
       "    }\n",
       "\n",
       "    .dataframe thead th {\n",
       "        text-align: right;\n",
       "    }\n",
       "</style>\n",
       "<table border=\"1\" class=\"dataframe\">\n",
       "  <thead>\n",
       "    <tr style=\"text-align: right;\">\n",
       "      <th></th>\n",
       "      <th>APPEARANCES</th>\n",
       "      <th>YEAR</th>\n",
       "    </tr>\n",
       "  </thead>\n",
       "  <tbody>\n",
       "    <tr>\n",
       "      <th>0</th>\n",
       "      <td>3093.0</td>\n",
       "      <td>1939.0</td>\n",
       "    </tr>\n",
       "    <tr>\n",
       "      <th>1</th>\n",
       "      <td>2496.0</td>\n",
       "      <td>1986.0</td>\n",
       "    </tr>\n",
       "    <tr>\n",
       "      <th>2</th>\n",
       "      <td>1565.0</td>\n",
       "      <td>1959.0</td>\n",
       "    </tr>\n",
       "    <tr>\n",
       "      <th>3</th>\n",
       "      <td>1316.0</td>\n",
       "      <td>1987.0</td>\n",
       "    </tr>\n",
       "    <tr>\n",
       "      <th>4</th>\n",
       "      <td>1237.0</td>\n",
       "      <td>1940.0</td>\n",
       "    </tr>\n",
       "    <tr>\n",
       "      <th>...</th>\n",
       "      <td>...</td>\n",
       "      <td>...</td>\n",
       "    </tr>\n",
       "    <tr>\n",
       "      <th>6891</th>\n",
       "      <td>NaN</td>\n",
       "      <td>NaN</td>\n",
       "    </tr>\n",
       "    <tr>\n",
       "      <th>6892</th>\n",
       "      <td>NaN</td>\n",
       "      <td>NaN</td>\n",
       "    </tr>\n",
       "    <tr>\n",
       "      <th>6893</th>\n",
       "      <td>NaN</td>\n",
       "      <td>NaN</td>\n",
       "    </tr>\n",
       "    <tr>\n",
       "      <th>6894</th>\n",
       "      <td>NaN</td>\n",
       "      <td>NaN</td>\n",
       "    </tr>\n",
       "    <tr>\n",
       "      <th>6895</th>\n",
       "      <td>NaN</td>\n",
       "      <td>NaN</td>\n",
       "    </tr>\n",
       "  </tbody>\n",
       "</table>\n",
       "<p>6896 rows × 2 columns</p>\n",
       "</div>"
      ],
      "text/plain": [
       "      APPEARANCES    YEAR\n",
       "0          3093.0  1939.0\n",
       "1          2496.0  1986.0\n",
       "2          1565.0  1959.0\n",
       "3          1316.0  1987.0\n",
       "4          1237.0  1940.0\n",
       "...           ...     ...\n",
       "6891          NaN     NaN\n",
       "6892          NaN     NaN\n",
       "6893          NaN     NaN\n",
       "6894          NaN     NaN\n",
       "6895          NaN     NaN\n",
       "\n",
       "[6896 rows x 2 columns]"
      ]
     },
     "execution_count": 16,
     "metadata": {},
     "output_type": "execute_result"
    }
   ],
   "source": [
    "# Фильтр по колонкам с пропущенными значениями\n",
    "data_num = data[num_cols]\n",
    "data_num"
   ]
  },
  {
   "cell_type": "code",
   "execution_count": 17,
   "metadata": {},
   "outputs": [
    {
     "name": "stderr",
     "output_type": "stream",
     "text": [
      "C:\\ProgramData\\Anaconda3\\lib\\site-packages\\numpy\\lib\\histograms.py:839: RuntimeWarning: invalid value encountered in greater_equal\n",
      "  keep = (tmp_a >= first_edge)\n",
      "C:\\ProgramData\\Anaconda3\\lib\\site-packages\\numpy\\lib\\histograms.py:840: RuntimeWarning: invalid value encountered in less_equal\n",
      "  keep &= (tmp_a <= last_edge)\n"
     ]
    },
    {
     "data": {
      "image/png": "[encoded data removed]",
      "text/plain": [
       "<Figure size 432x288 with 1 Axes>"
      ]
     },
     "metadata": {},
     "output_type": "display_data"
    },
    {
     "data": {
      "image/png": "[encoded data removed]",
      "text/plain": [
       "<Figure size 432x288 with 1 Axes>"
      ]
     },
     "metadata": {},
     "output_type": "display_data"
    }
   ],
   "source": [
    "# Гистограмма по признакам\n",
    "for col in data_num:\n",
    "    plt.hist(data[col], 50)\n",
    "    plt.xlabel(col)\n",
    "    plt.show()"
   ]
  },
  {
   "cell_type": "code",
   "execution_count": 18,
   "metadata": {},
   "outputs": [
    {
     "data": {
      "text/html": [
       "<div>\n",
       "<style scoped>\n",
       "    .dataframe tbody tr th:only-of-type {\n",
       "        vertical-align: middle;\n",
       "    }\n",
       "\n",
       "    .dataframe tbody tr th {\n",
       "        vertical-align: top;\n",
       "    }\n",
       "\n",
       "    .dataframe thead th {\n",
       "        text-align: right;\n",
       "    }\n",
       "</style>\n",
       "<table border=\"1\" class=\"dataframe\">\n",
       "  <thead>\n",
       "    <tr style=\"text-align: right;\">\n",
       "      <th></th>\n",
       "      <th>page_id</th>\n",
       "      <th>name</th>\n",
       "      <th>urlslug</th>\n",
       "      <th>ID</th>\n",
       "      <th>ALIGN</th>\n",
       "      <th>EYE</th>\n",
       "      <th>HAIR</th>\n",
       "      <th>SEX</th>\n",
       "      <th>GSM</th>\n",
       "      <th>ALIVE</th>\n",
       "      <th>APPEARANCES</th>\n",
       "      <th>FIRST APPEARANCE</th>\n",
       "      <th>YEAR</th>\n",
       "    </tr>\n",
       "  </thead>\n",
       "  <tbody>\n",
       "    <tr>\n",
       "      <th>6541</th>\n",
       "      <td>306472</td>\n",
       "      <td>Matteo Bischoff (New Earth)</td>\n",
       "      <td>\\/wiki\\/Matteo_Bischoff_(New_Earth)</td>\n",
       "      <td>Secret Identity</td>\n",
       "      <td>Bad Characters</td>\n",
       "      <td>NaN</td>\n",
       "      <td>Grey Hair</td>\n",
       "      <td>Male Characters</td>\n",
       "      <td>NaN</td>\n",
       "      <td>Living Characters</td>\n",
       "      <td>NaN</td>\n",
       "      <td>2012, May</td>\n",
       "      <td>2012.0</td>\n",
       "    </tr>\n",
       "    <tr>\n",
       "      <th>6542</th>\n",
       "      <td>273317</td>\n",
       "      <td>Doomslayer (New Earth)</td>\n",
       "      <td>\\/wiki\\/Doomslayer_(New_Earth)</td>\n",
       "      <td>Secret Identity</td>\n",
       "      <td>Bad Characters</td>\n",
       "      <td>Green Eyes</td>\n",
       "      <td>White Hair</td>\n",
       "      <td>Male Characters</td>\n",
       "      <td>NaN</td>\n",
       "      <td>Living Characters</td>\n",
       "      <td>NaN</td>\n",
       "      <td>2011, July</td>\n",
       "      <td>2011.0</td>\n",
       "    </tr>\n",
       "    <tr>\n",
       "      <th>6543</th>\n",
       "      <td>242097</td>\n",
       "      <td>Emily Sung (New Earth)</td>\n",
       "      <td>\\/wiki\\/Emily_Sung_(New_Earth)</td>\n",
       "      <td>Secret Identity</td>\n",
       "      <td>Good Characters</td>\n",
       "      <td>Violet Eyes</td>\n",
       "      <td>Purple Hair</td>\n",
       "      <td>Female Characters</td>\n",
       "      <td>NaN</td>\n",
       "      <td>Living Characters</td>\n",
       "      <td>NaN</td>\n",
       "      <td>2011, July</td>\n",
       "      <td>2011.0</td>\n",
       "    </tr>\n",
       "    <tr>\n",
       "      <th>6544</th>\n",
       "      <td>247494</td>\n",
       "      <td>Ry'jll (New Earth)</td>\n",
       "      <td>\\/wiki\\/Ry%27jll_(New_Earth)</td>\n",
       "      <td>Secret Identity</td>\n",
       "      <td>Good Characters</td>\n",
       "      <td>Green Eyes</td>\n",
       "      <td>NaN</td>\n",
       "      <td>Female Characters</td>\n",
       "      <td>NaN</td>\n",
       "      <td>Living Characters</td>\n",
       "      <td>NaN</td>\n",
       "      <td>2011, October</td>\n",
       "      <td>2011.0</td>\n",
       "    </tr>\n",
       "    <tr>\n",
       "      <th>6545</th>\n",
       "      <td>161599</td>\n",
       "      <td>Baron Gestapo (New Earth)</td>\n",
       "      <td>\\/wiki\\/Baron_Gestapo_(New_Earth)</td>\n",
       "      <td>NaN</td>\n",
       "      <td>Bad Characters</td>\n",
       "      <td>NaN</td>\n",
       "      <td>NaN</td>\n",
       "      <td>Male Characters</td>\n",
       "      <td>NaN</td>\n",
       "      <td>Living Characters</td>\n",
       "      <td>NaN</td>\n",
       "      <td>2010, March</td>\n",
       "      <td>2010.0</td>\n",
       "    </tr>\n",
       "    <tr>\n",
       "      <th>...</th>\n",
       "      <td>...</td>\n",
       "      <td>...</td>\n",
       "      <td>...</td>\n",
       "      <td>...</td>\n",
       "      <td>...</td>\n",
       "      <td>...</td>\n",
       "      <td>...</td>\n",
       "      <td>...</td>\n",
       "      <td>...</td>\n",
       "      <td>...</td>\n",
       "      <td>...</td>\n",
       "      <td>...</td>\n",
       "      <td>...</td>\n",
       "    </tr>\n",
       "    <tr>\n",
       "      <th>6891</th>\n",
       "      <td>66302</td>\n",
       "      <td>Nadine West (New Earth)</td>\n",
       "      <td>\\/wiki\\/Nadine_West_(New_Earth)</td>\n",
       "      <td>Public Identity</td>\n",
       "      <td>Good Characters</td>\n",
       "      <td>NaN</td>\n",
       "      <td>NaN</td>\n",
       "      <td>Female Characters</td>\n",
       "      <td>NaN</td>\n",
       "      <td>Living Characters</td>\n",
       "      <td>NaN</td>\n",
       "      <td>NaN</td>\n",
       "      <td>NaN</td>\n",
       "    </tr>\n",
       "    <tr>\n",
       "      <th>6892</th>\n",
       "      <td>283475</td>\n",
       "      <td>Warren Harding (New Earth)</td>\n",
       "      <td>\\/wiki\\/Warren_Harding_(New_Earth)</td>\n",
       "      <td>Public Identity</td>\n",
       "      <td>Good Characters</td>\n",
       "      <td>NaN</td>\n",
       "      <td>NaN</td>\n",
       "      <td>Male Characters</td>\n",
       "      <td>NaN</td>\n",
       "      <td>Living Characters</td>\n",
       "      <td>NaN</td>\n",
       "      <td>NaN</td>\n",
       "      <td>NaN</td>\n",
       "    </tr>\n",
       "    <tr>\n",
       "      <th>6893</th>\n",
       "      <td>283478</td>\n",
       "      <td>William Harrison (New Earth)</td>\n",
       "      <td>\\/wiki\\/William_Harrison_(New_Earth)</td>\n",
       "      <td>Public Identity</td>\n",
       "      <td>Good Characters</td>\n",
       "      <td>NaN</td>\n",
       "      <td>NaN</td>\n",
       "      <td>Male Characters</td>\n",
       "      <td>NaN</td>\n",
       "      <td>Living Characters</td>\n",
       "      <td>NaN</td>\n",
       "      <td>NaN</td>\n",
       "      <td>NaN</td>\n",
       "    </tr>\n",
       "    <tr>\n",
       "      <th>6894</th>\n",
       "      <td>283471</td>\n",
       "      <td>William McKinley (New Earth)</td>\n",
       "      <td>\\/wiki\\/William_McKinley_(New_Earth)</td>\n",
       "      <td>Public Identity</td>\n",
       "      <td>Good Characters</td>\n",
       "      <td>NaN</td>\n",
       "      <td>NaN</td>\n",
       "      <td>Male Characters</td>\n",
       "      <td>NaN</td>\n",
       "      <td>Living Characters</td>\n",
       "      <td>NaN</td>\n",
       "      <td>NaN</td>\n",
       "      <td>NaN</td>\n",
       "    </tr>\n",
       "    <tr>\n",
       "      <th>6895</th>\n",
       "      <td>150660</td>\n",
       "      <td>Mookie (New Earth)</td>\n",
       "      <td>\\/wiki\\/Mookie_(New_Earth)</td>\n",
       "      <td>Public Identity</td>\n",
       "      <td>Bad Characters</td>\n",
       "      <td>Blue Eyes</td>\n",
       "      <td>Blond Hair</td>\n",
       "      <td>Male Characters</td>\n",
       "      <td>NaN</td>\n",
       "      <td>Living Characters</td>\n",
       "      <td>NaN</td>\n",
       "      <td>NaN</td>\n",
       "      <td>NaN</td>\n",
       "    </tr>\n",
       "  </tbody>\n",
       "</table>\n",
       "<p>355 rows × 13 columns</p>\n",
       "</div>"
      ],
      "text/plain": [
       "      page_id                          name  \\\n",
       "6541   306472   Matteo Bischoff (New Earth)   \n",
       "6542   273317        Doomslayer (New Earth)   \n",
       "6543   242097        Emily Sung (New Earth)   \n",
       "6544   247494            Ry'jll (New Earth)   \n",
       "6545   161599     Baron Gestapo (New Earth)   \n",
       "...       ...                           ...   \n",
       "6891    66302       Nadine West (New Earth)   \n",
       "6892   283475    Warren Harding (New Earth)   \n",
       "6893   283478  William Harrison (New Earth)   \n",
       "6894   283471  William McKinley (New Earth)   \n",
       "6895   150660            Mookie (New Earth)   \n",
       "\n",
       "                                   urlslug               ID            ALIGN  \\\n",
       "6541   \\/wiki\\/Matteo_Bischoff_(New_Earth)  Secret Identity   Bad Characters   \n",
       "6542        \\/wiki\\/Doomslayer_(New_Earth)  Secret Identity   Bad Characters   \n",
       "6543        \\/wiki\\/Emily_Sung_(New_Earth)  Secret Identity  Good Characters   \n",
       "6544          \\/wiki\\/Ry%27jll_(New_Earth)  Secret Identity  Good Characters   \n",
       "6545     \\/wiki\\/Baron_Gestapo_(New_Earth)              NaN   Bad Characters   \n",
       "...                                    ...              ...              ...   \n",
       "6891       \\/wiki\\/Nadine_West_(New_Earth)  Public Identity  Good Characters   \n",
       "6892    \\/wiki\\/Warren_Harding_(New_Earth)  Public Identity  Good Characters   \n",
       "6893  \\/wiki\\/William_Harrison_(New_Earth)  Public Identity  Good Characters   \n",
       "6894  \\/wiki\\/William_McKinley_(New_Earth)  Public Identity  Good Characters   \n",
       "6895            \\/wiki\\/Mookie_(New_Earth)  Public Identity   Bad Characters   \n",
       "\n",
       "              EYE         HAIR                SEX  GSM              ALIVE  \\\n",
       "6541          NaN    Grey Hair    Male Characters  NaN  Living Characters   \n",
       "6542   Green Eyes   White Hair    Male Characters  NaN  Living Characters   \n",
       "6543  Violet Eyes  Purple Hair  Female Characters  NaN  Living Characters   \n",
       "6544   Green Eyes          NaN  Female Characters  NaN  Living Characters   \n",
       "6545          NaN          NaN    Male Characters  NaN  Living Characters   \n",
       "...           ...          ...                ...  ...                ...   \n",
       "6891          NaN          NaN  Female Characters  NaN  Living Characters   \n",
       "6892          NaN          NaN    Male Characters  NaN  Living Characters   \n",
       "6893          NaN          NaN    Male Characters  NaN  Living Characters   \n",
       "6894          NaN          NaN    Male Characters  NaN  Living Characters   \n",
       "6895    Blue Eyes   Blond Hair    Male Characters  NaN  Living Characters   \n",
       "\n",
       "      APPEARANCES FIRST APPEARANCE    YEAR  \n",
       "6541          NaN        2012, May  2012.0  \n",
       "6542          NaN       2011, July  2011.0  \n",
       "6543          NaN       2011, July  2011.0  \n",
       "6544          NaN    2011, October  2011.0  \n",
       "6545          NaN      2010, March  2010.0  \n",
       "...           ...              ...     ...  \n",
       "6891          NaN              NaN     NaN  \n",
       "6892          NaN              NaN     NaN  \n",
       "6893          NaN              NaN     NaN  \n",
       "6894          NaN              NaN     NaN  \n",
       "6895          NaN              NaN     NaN  \n",
       "\n",
       "[355 rows x 13 columns]"
      ]
     },
     "execution_count": 18,
     "metadata": {},
     "output_type": "execute_result"
    }
   ],
   "source": [
    "# Фильтр по пустым значениям поля APPEARANCES\n",
    "data[data['APPEARANCES'].isnull()]"
   ]
  },
  {
   "cell_type": "code",
   "execution_count": 19,
   "metadata": {},
   "outputs": [
    {
     "data": {
      "text/plain": [
       "Int64Index([6541, 6542, 6543, 6544, 6545, 6546, 6547, 6548, 6549, 6550,\n",
       "            ...\n",
       "            6886, 6887, 6888, 6889, 6890, 6891, 6892, 6893, 6894, 6895],\n",
       "           dtype='int64', length=355)"
      ]
     },
     "execution_count": 19,
     "metadata": {},
     "output_type": "execute_result"
    }
   ],
   "source": [
    "# Запоминаем индексы строк с пустыми значениями\n",
    "flt_index = data[data['APPEARANCES'].isnull()].index\n",
    "flt_index"
   ]
  },
  {
   "cell_type": "code",
   "execution_count": 20,
   "metadata": {},
   "outputs": [
    {
     "data": {
      "text/html": [
       "<div>\n",
       "<style scoped>\n",
       "    .dataframe tbody tr th:only-of-type {\n",
       "        vertical-align: middle;\n",
       "    }\n",
       "\n",
       "    .dataframe tbody tr th {\n",
       "        vertical-align: top;\n",
       "    }\n",
       "\n",
       "    .dataframe thead th {\n",
       "        text-align: right;\n",
       "    }\n",
       "</style>\n",
       "<table border=\"1\" class=\"dataframe\">\n",
       "  <thead>\n",
       "    <tr style=\"text-align: right;\">\n",
       "      <th></th>\n",
       "      <th>page_id</th>\n",
       "      <th>name</th>\n",
       "      <th>urlslug</th>\n",
       "      <th>ID</th>\n",
       "      <th>ALIGN</th>\n",
       "      <th>EYE</th>\n",
       "      <th>HAIR</th>\n",
       "      <th>SEX</th>\n",
       "      <th>GSM</th>\n",
       "      <th>ALIVE</th>\n",
       "      <th>APPEARANCES</th>\n",
       "      <th>FIRST APPEARANCE</th>\n",
       "      <th>YEAR</th>\n",
       "    </tr>\n",
       "  </thead>\n",
       "  <tbody>\n",
       "    <tr>\n",
       "      <th>6541</th>\n",
       "      <td>306472</td>\n",
       "      <td>Matteo Bischoff (New Earth)</td>\n",
       "      <td>\\/wiki\\/Matteo_Bischoff_(New_Earth)</td>\n",
       "      <td>Secret Identity</td>\n",
       "      <td>Bad Characters</td>\n",
       "      <td>NaN</td>\n",
       "      <td>Grey Hair</td>\n",
       "      <td>Male Characters</td>\n",
       "      <td>NaN</td>\n",
       "      <td>Living Characters</td>\n",
       "      <td>NaN</td>\n",
       "      <td>2012, May</td>\n",
       "      <td>2012.0</td>\n",
       "    </tr>\n",
       "    <tr>\n",
       "      <th>6542</th>\n",
       "      <td>273317</td>\n",
       "      <td>Doomslayer (New Earth)</td>\n",
       "      <td>\\/wiki\\/Doomslayer_(New_Earth)</td>\n",
       "      <td>Secret Identity</td>\n",
       "      <td>Bad Characters</td>\n",
       "      <td>Green Eyes</td>\n",
       "      <td>White Hair</td>\n",
       "      <td>Male Characters</td>\n",
       "      <td>NaN</td>\n",
       "      <td>Living Characters</td>\n",
       "      <td>NaN</td>\n",
       "      <td>2011, July</td>\n",
       "      <td>2011.0</td>\n",
       "    </tr>\n",
       "    <tr>\n",
       "      <th>6543</th>\n",
       "      <td>242097</td>\n",
       "      <td>Emily Sung (New Earth)</td>\n",
       "      <td>\\/wiki\\/Emily_Sung_(New_Earth)</td>\n",
       "      <td>Secret Identity</td>\n",
       "      <td>Good Characters</td>\n",
       "      <td>Violet Eyes</td>\n",
       "      <td>Purple Hair</td>\n",
       "      <td>Female Characters</td>\n",
       "      <td>NaN</td>\n",
       "      <td>Living Characters</td>\n",
       "      <td>NaN</td>\n",
       "      <td>2011, July</td>\n",
       "      <td>2011.0</td>\n",
       "    </tr>\n",
       "    <tr>\n",
       "      <th>6544</th>\n",
       "      <td>247494</td>\n",
       "      <td>Ry'jll (New Earth)</td>\n",
       "      <td>\\/wiki\\/Ry%27jll_(New_Earth)</td>\n",
       "      <td>Secret Identity</td>\n",
       "      <td>Good Characters</td>\n",
       "      <td>Green Eyes</td>\n",
       "      <td>NaN</td>\n",
       "      <td>Female Characters</td>\n",
       "      <td>NaN</td>\n",
       "      <td>Living Characters</td>\n",
       "      <td>NaN</td>\n",
       "      <td>2011, October</td>\n",
       "      <td>2011.0</td>\n",
       "    </tr>\n",
       "    <tr>\n",
       "      <th>6545</th>\n",
       "      <td>161599</td>\n",
       "      <td>Baron Gestapo (New Earth)</td>\n",
       "      <td>\\/wiki\\/Baron_Gestapo_(New_Earth)</td>\n",
       "      <td>NaN</td>\n",
       "      <td>Bad Characters</td>\n",
       "      <td>NaN</td>\n",
       "      <td>NaN</td>\n",
       "      <td>Male Characters</td>\n",
       "      <td>NaN</td>\n",
       "      <td>Living Characters</td>\n",
       "      <td>NaN</td>\n",
       "      <td>2010, March</td>\n",
       "      <td>2010.0</td>\n",
       "    </tr>\n",
       "    <tr>\n",
       "      <th>...</th>\n",
       "      <td>...</td>\n",
       "      <td>...</td>\n",
       "      <td>...</td>\n",
       "      <td>...</td>\n",
       "      <td>...</td>\n",
       "      <td>...</td>\n",
       "      <td>...</td>\n",
       "      <td>...</td>\n",
       "      <td>...</td>\n",
       "      <td>...</td>\n",
       "      <td>...</td>\n",
       "      <td>...</td>\n",
       "      <td>...</td>\n",
       "    </tr>\n",
       "    <tr>\n",
       "      <th>6891</th>\n",
       "      <td>66302</td>\n",
       "      <td>Nadine West (New Earth)</td>\n",
       "      <td>\\/wiki\\/Nadine_West_(New_Earth)</td>\n",
       "      <td>Public Identity</td>\n",
       "      <td>Good Characters</td>\n",
       "      <td>NaN</td>\n",
       "      <td>NaN</td>\n",
       "      <td>Female Characters</td>\n",
       "      <td>NaN</td>\n",
       "      <td>Living Characters</td>\n",
       "      <td>NaN</td>\n",
       "      <td>NaN</td>\n",
       "      <td>NaN</td>\n",
       "    </tr>\n",
       "    <tr>\n",
       "      <th>6892</th>\n",
       "      <td>283475</td>\n",
       "      <td>Warren Harding (New Earth)</td>\n",
       "      <td>\\/wiki\\/Warren_Harding_(New_Earth)</td>\n",
       "      <td>Public Identity</td>\n",
       "      <td>Good Characters</td>\n",
       "      <td>NaN</td>\n",
       "      <td>NaN</td>\n",
       "      <td>Male Characters</td>\n",
       "      <td>NaN</td>\n",
       "      <td>Living Characters</td>\n",
       "      <td>NaN</td>\n",
       "      <td>NaN</td>\n",
       "      <td>NaN</td>\n",
       "    </tr>\n",
       "    <tr>\n",
       "      <th>6893</th>\n",
       "      <td>283478</td>\n",
       "      <td>William Harrison (New Earth)</td>\n",
       "      <td>\\/wiki\\/William_Harrison_(New_Earth)</td>\n",
       "      <td>Public Identity</td>\n",
       "      <td>Good Characters</td>\n",
       "      <td>NaN</td>\n",
       "      <td>NaN</td>\n",
       "      <td>Male Characters</td>\n",
       "      <td>NaN</td>\n",
       "      <td>Living Characters</td>\n",
       "      <td>NaN</td>\n",
       "      <td>NaN</td>\n",
       "      <td>NaN</td>\n",
       "    </tr>\n",
       "    <tr>\n",
       "      <th>6894</th>\n",
       "      <td>283471</td>\n",
       "      <td>William McKinley (New Earth)</td>\n",
       "      <td>\\/wiki\\/William_McKinley_(New_Earth)</td>\n",
       "      <td>Public Identity</td>\n",
       "      <td>Good Characters</td>\n",
       "      <td>NaN</td>\n",
       "      <td>NaN</td>\n",
       "      <td>Male Characters</td>\n",
       "      <td>NaN</td>\n",
       "      <td>Living Characters</td>\n",
       "      <td>NaN</td>\n",
       "      <td>NaN</td>\n",
       "      <td>NaN</td>\n",
       "    </tr>\n",
       "    <tr>\n",
       "      <th>6895</th>\n",
       "      <td>150660</td>\n",
       "      <td>Mookie (New Earth)</td>\n",
       "      <td>\\/wiki\\/Mookie_(New_Earth)</td>\n",
       "      <td>Public Identity</td>\n",
       "      <td>Bad Characters</td>\n",
       "      <td>Blue Eyes</td>\n",
       "      <td>Blond Hair</td>\n",
       "      <td>Male Characters</td>\n",
       "      <td>NaN</td>\n",
       "      <td>Living Characters</td>\n",
       "      <td>NaN</td>\n",
       "      <td>NaN</td>\n",
       "      <td>NaN</td>\n",
       "    </tr>\n",
       "  </tbody>\n",
       "</table>\n",
       "<p>355 rows × 13 columns</p>\n",
       "</div>"
      ],
      "text/plain": [
       "      page_id                          name  \\\n",
       "6541   306472   Matteo Bischoff (New Earth)   \n",
       "6542   273317        Doomslayer (New Earth)   \n",
       "6543   242097        Emily Sung (New Earth)   \n",
       "6544   247494            Ry'jll (New Earth)   \n",
       "6545   161599     Baron Gestapo (New Earth)   \n",
       "...       ...                           ...   \n",
       "6891    66302       Nadine West (New Earth)   \n",
       "6892   283475    Warren Harding (New Earth)   \n",
       "6893   283478  William Harrison (New Earth)   \n",
       "6894   283471  William McKinley (New Earth)   \n",
       "6895   150660            Mookie (New Earth)   \n",
       "\n",
       "                                   urlslug               ID            ALIGN  \\\n",
       "6541   \\/wiki\\/Matteo_Bischoff_(New_Earth)  Secret Identity   Bad Characters   \n",
       "6542        \\/wiki\\/Doomslayer_(New_Earth)  Secret Identity   Bad Characters   \n",
       "6543        \\/wiki\\/Emily_Sung_(New_Earth)  Secret Identity  Good Characters   \n",
       "6544          \\/wiki\\/Ry%27jll_(New_Earth)  Secret Identity  Good Characters   \n",
       "6545     \\/wiki\\/Baron_Gestapo_(New_Earth)              NaN   Bad Characters   \n",
       "...                                    ...              ...              ...   \n",
       "6891       \\/wiki\\/Nadine_West_(New_Earth)  Public Identity  Good Characters   \n",
       "6892    \\/wiki\\/Warren_Harding_(New_Earth)  Public Identity  Good Characters   \n",
       "6893  \\/wiki\\/William_Harrison_(New_Earth)  Public Identity  Good Characters   \n",
       "6894  \\/wiki\\/William_McKinley_(New_Earth)  Public Identity  Good Characters   \n",
       "6895            \\/wiki\\/Mookie_(New_Earth)  Public Identity   Bad Characters   \n",
       "\n",
       "              EYE         HAIR                SEX  GSM              ALIVE  \\\n",
       "6541          NaN    Grey Hair    Male Characters  NaN  Living Characters   \n",
       "6542   Green Eyes   White Hair    Male Characters  NaN  Living Characters   \n",
       "6543  Violet Eyes  Purple Hair  Female Characters  NaN  Living Characters   \n",
       "6544   Green Eyes          NaN  Female Characters  NaN  Living Characters   \n",
       "6545          NaN          NaN    Male Characters  NaN  Living Characters   \n",
       "...           ...          ...                ...  ...                ...   \n",
       "6891          NaN          NaN  Female Characters  NaN  Living Characters   \n",
       "6892          NaN          NaN    Male Characters  NaN  Living Characters   \n",
       "6893          NaN          NaN    Male Characters  NaN  Living Characters   \n",
       "6894          NaN          NaN    Male Characters  NaN  Living Characters   \n",
       "6895    Blue Eyes   Blond Hair    Male Characters  NaN  Living Characters   \n",
       "\n",
       "      APPEARANCES FIRST APPEARANCE    YEAR  \n",
       "6541          NaN        2012, May  2012.0  \n",
       "6542          NaN       2011, July  2011.0  \n",
       "6543          NaN       2011, July  2011.0  \n",
       "6544          NaN    2011, October  2011.0  \n",
       "6545          NaN      2010, March  2010.0  \n",
       "...           ...              ...     ...  \n",
       "6891          NaN              NaN     NaN  \n",
       "6892          NaN              NaN     NaN  \n",
       "6893          NaN              NaN     NaN  \n",
       "6894          NaN              NaN     NaN  \n",
       "6895          NaN              NaN     NaN  \n",
       "\n",
       "[355 rows x 13 columns]"
      ]
     },
     "execution_count": 20,
     "metadata": {},
     "output_type": "execute_result"
    }
   ],
   "source": [
    "# Проверяем что выводятся нужные строки\n",
    "data[data.index.isin(flt_index)]"
   ]
  },
  {
   "cell_type": "code",
   "execution_count": 21,
   "metadata": {},
   "outputs": [
    {
     "data": {
      "text/plain": [
       "6541   NaN\n",
       "6542   NaN\n",
       "6543   NaN\n",
       "6544   NaN\n",
       "6545   NaN\n",
       "        ..\n",
       "6891   NaN\n",
       "6892   NaN\n",
       "6893   NaN\n",
       "6894   NaN\n",
       "6895   NaN\n",
       "Name: APPEARANCES, Length: 355, dtype: float64"
      ]
     },
     "execution_count": 21,
     "metadata": {},
     "output_type": "execute_result"
    }
   ],
   "source": [
    "\n",
    "# фильтр по колонке\n",
    "data_num[data_num.index.isin(flt_index)]['APPEARANCES']"
   ]
  },
  {
   "cell_type": "code",
   "execution_count": 22,
   "metadata": {},
   "outputs": [
    {
     "data": {
      "text/html": [
       "<div>\n",
       "<style scoped>\n",
       "    .dataframe tbody tr th:only-of-type {\n",
       "        vertical-align: middle;\n",
       "    }\n",
       "\n",
       "    .dataframe tbody tr th {\n",
       "        vertical-align: top;\n",
       "    }\n",
       "\n",
       "    .dataframe thead th {\n",
       "        text-align: right;\n",
       "    }\n",
       "</style>\n",
       "<table border=\"1\" class=\"dataframe\">\n",
       "  <thead>\n",
       "    <tr style=\"text-align: right;\">\n",
       "      <th></th>\n",
       "      <th>APPEARANCES</th>\n",
       "    </tr>\n",
       "  </thead>\n",
       "  <tbody>\n",
       "    <tr>\n",
       "      <th>0</th>\n",
       "      <td>3093.0</td>\n",
       "    </tr>\n",
       "    <tr>\n",
       "      <th>1</th>\n",
       "      <td>2496.0</td>\n",
       "    </tr>\n",
       "    <tr>\n",
       "      <th>2</th>\n",
       "      <td>1565.0</td>\n",
       "    </tr>\n",
       "    <tr>\n",
       "      <th>3</th>\n",
       "      <td>1316.0</td>\n",
       "    </tr>\n",
       "    <tr>\n",
       "      <th>4</th>\n",
       "      <td>1237.0</td>\n",
       "    </tr>\n",
       "  </tbody>\n",
       "</table>\n",
       "</div>"
      ],
      "text/plain": [
       "   APPEARANCES\n",
       "0       3093.0\n",
       "1       2496.0\n",
       "2       1565.0\n",
       "3       1316.0\n",
       "4       1237.0"
      ]
     },
     "execution_count": 22,
     "metadata": {},
     "output_type": "execute_result"
    }
   ],
   "source": [
    "data_num_MasVnrArea = data_num[['APPEARANCES']]\n",
    "data_num_MasVnrArea.head()"
   ]
  },
  {
   "cell_type": "code",
   "execution_count": 23,
   "metadata": {},
   "outputs": [],
   "source": [
    "from sklearn.impute import SimpleImputer\n",
    "from sklearn.impute import MissingIndicator"
   ]
  },
  {
   "cell_type": "code",
   "execution_count": 24,
   "metadata": {},
   "outputs": [
    {
     "data": {
      "text/plain": [
       "array([[False],\n",
       "       [False],\n",
       "       [False],\n",
       "       ...,\n",
       "       [ True],\n",
       "       [ True],\n",
       "       [ True]])"
      ]
     },
     "execution_count": 24,
     "metadata": {},
     "output_type": "execute_result"
    }
   ],
   "source": [
    "# Фильтр для проверки заполнения пустых значений\n",
    "indicator = MissingIndicator()\n",
    "mask_missing_values_only = indicator.fit_transform(data_num_MasVnrArea)\n",
    "mask_missing_values_only"
   ]
  },
  {
   "cell_type": "code",
   "execution_count": 28,
   "metadata": {},
   "outputs": [],
   "source": [
    "strategies=['mean', 'median','most_frequent']"
   ]
  },
  {
   "cell_type": "code",
   "execution_count": 29,
   "metadata": {},
   "outputs": [],
   "source": [
    "def test_num_impute(strategy_param):\n",
    "    imp_num = SimpleImputer(strategy=strategy_param)\n",
    "    data_num_imp = imp_num.fit_transform(data_num_MasVnrArea)\n",
    "    return data_num_imp[mask_missing_values_only]"
   ]
  },
  {
   "cell_type": "code",
   "execution_count": 30,
   "metadata": {},
   "outputs": [
    {
     "data": {
      "text/plain": [
       "('mean',\n",
       " array([23.62513377, 23.62513377, 23.62513377, 23.62513377, 23.62513377,\n",
       "        23.62513377, 23.62513377, 23.62513377, 23.62513377, 23.62513377,\n",
       "        23.62513377, 23.62513377, 23.62513377, 23.62513377, 23.62513377,\n",
       "        23.62513377, 23.62513377, 23.62513377, 23.62513377, 23.62513377,\n",
       "        23.62513377, 23.62513377, 23.62513377, 23.62513377, 23.62513377,\n",
       "        23.62513377, 23.62513377, 23.62513377, 23.62513377, 23.62513377,\n",
       "        23.62513377, 23.62513377, 23.62513377, 23.62513377, 23.62513377,\n",
       "        23.62513377, 23.62513377, 23.62513377, 23.62513377, 23.62513377,\n",
       "        23.62513377, 23.62513377, 23.62513377, 23.62513377, 23.62513377,\n",
       "        23.62513377, 23.62513377, 23.62513377, 23.62513377, 23.62513377,\n",
       "        23.62513377, 23.62513377, 23.62513377, 23.62513377, 23.62513377,\n",
       "        23.62513377, 23.62513377, 23.62513377, 23.62513377, 23.62513377,\n",
       "        23.62513377, 23.62513377, 23.62513377, 23.62513377, 23.62513377,\n",
       "        23.62513377, 23.62513377, 23.62513377, 23.62513377, 23.62513377,\n",
       "        23.62513377, 23.62513377, 23.62513377, 23.62513377, 23.62513377,\n",
       "        23.62513377, 23.62513377, 23.62513377, 23.62513377, 23.62513377,\n",
       "        23.62513377, 23.62513377, 23.62513377, 23.62513377, 23.62513377,\n",
       "        23.62513377, 23.62513377, 23.62513377, 23.62513377, 23.62513377,\n",
       "        23.62513377, 23.62513377, 23.62513377, 23.62513377, 23.62513377,\n",
       "        23.62513377, 23.62513377, 23.62513377, 23.62513377, 23.62513377,\n",
       "        23.62513377, 23.62513377, 23.62513377, 23.62513377, 23.62513377,\n",
       "        23.62513377, 23.62513377, 23.62513377, 23.62513377, 23.62513377,\n",
       "        23.62513377, 23.62513377, 23.62513377, 23.62513377, 23.62513377,\n",
       "        23.62513377, 23.62513377, 23.62513377, 23.62513377, 23.62513377,\n",
       "        23.62513377, 23.62513377, 23.62513377, 23.62513377, 23.62513377,\n",
       "        23.62513377, 23.62513377, 23.62513377, 23.62513377, 23.62513377,\n",
       "        23.62513377, 23.62513377, 23.62513377, 23.62513377, 23.62513377,\n",
       "        23.62513377, 23.62513377, 23.62513377, 23.62513377, 23.62513377,\n",
       "        23.62513377, 23.62513377, 23.62513377, 23.62513377, 23.62513377,\n",
       "        23.62513377, 23.62513377, 23.62513377, 23.62513377, 23.62513377,\n",
       "        23.62513377, 23.62513377, 23.62513377, 23.62513377, 23.62513377,\n",
       "        23.62513377, 23.62513377, 23.62513377, 23.62513377, 23.62513377,\n",
       "        23.62513377, 23.62513377, 23.62513377, 23.62513377, 23.62513377,\n",
       "        23.62513377, 23.62513377, 23.62513377, 23.62513377, 23.62513377,\n",
       "        23.62513377, 23.62513377, 23.62513377, 23.62513377, 23.62513377,\n",
       "        23.62513377, 23.62513377, 23.62513377, 23.62513377, 23.62513377,\n",
       "        23.62513377, 23.62513377, 23.62513377, 23.62513377, 23.62513377,\n",
       "        23.62513377, 23.62513377, 23.62513377, 23.62513377, 23.62513377,\n",
       "        23.62513377, 23.62513377, 23.62513377, 23.62513377, 23.62513377,\n",
       "        23.62513377, 23.62513377, 23.62513377, 23.62513377, 23.62513377,\n",
       "        23.62513377, 23.62513377, 23.62513377, 23.62513377, 23.62513377,\n",
       "        23.62513377, 23.62513377, 23.62513377, 23.62513377, 23.62513377,\n",
       "        23.62513377, 23.62513377, 23.62513377, 23.62513377, 23.62513377,\n",
       "        23.62513377, 23.62513377, 23.62513377, 23.62513377, 23.62513377,\n",
       "        23.62513377, 23.62513377, 23.62513377, 23.62513377, 23.62513377,\n",
       "        23.62513377, 23.62513377, 23.62513377, 23.62513377, 23.62513377,\n",
       "        23.62513377, 23.62513377, 23.62513377, 23.62513377, 23.62513377,\n",
       "        23.62513377, 23.62513377, 23.62513377, 23.62513377, 23.62513377,\n",
       "        23.62513377, 23.62513377, 23.62513377, 23.62513377, 23.62513377,\n",
       "        23.62513377, 23.62513377, 23.62513377, 23.62513377, 23.62513377,\n",
       "        23.62513377, 23.62513377, 23.62513377, 23.62513377, 23.62513377,\n",
       "        23.62513377, 23.62513377, 23.62513377, 23.62513377, 23.62513377,\n",
       "        23.62513377, 23.62513377, 23.62513377, 23.62513377, 23.62513377,\n",
       "        23.62513377, 23.62513377, 23.62513377, 23.62513377, 23.62513377,\n",
       "        23.62513377, 23.62513377, 23.62513377, 23.62513377, 23.62513377,\n",
       "        23.62513377, 23.62513377, 23.62513377, 23.62513377, 23.62513377,\n",
       "        23.62513377, 23.62513377, 23.62513377, 23.62513377, 23.62513377,\n",
       "        23.62513377, 23.62513377, 23.62513377, 23.62513377, 23.62513377,\n",
       "        23.62513377, 23.62513377, 23.62513377, 23.62513377, 23.62513377,\n",
       "        23.62513377, 23.62513377, 23.62513377, 23.62513377, 23.62513377,\n",
       "        23.62513377, 23.62513377, 23.62513377, 23.62513377, 23.62513377,\n",
       "        23.62513377, 23.62513377, 23.62513377, 23.62513377, 23.62513377,\n",
       "        23.62513377, 23.62513377, 23.62513377, 23.62513377, 23.62513377,\n",
       "        23.62513377, 23.62513377, 23.62513377, 23.62513377, 23.62513377,\n",
       "        23.62513377, 23.62513377, 23.62513377, 23.62513377, 23.62513377,\n",
       "        23.62513377, 23.62513377, 23.62513377, 23.62513377, 23.62513377,\n",
       "        23.62513377, 23.62513377, 23.62513377, 23.62513377, 23.62513377,\n",
       "        23.62513377, 23.62513377, 23.62513377, 23.62513377, 23.62513377,\n",
       "        23.62513377, 23.62513377, 23.62513377, 23.62513377, 23.62513377,\n",
       "        23.62513377, 23.62513377, 23.62513377, 23.62513377, 23.62513377,\n",
       "        23.62513377, 23.62513377, 23.62513377, 23.62513377, 23.62513377]))"
      ]
     },
     "execution_count": 30,
     "metadata": {},
     "output_type": "execute_result"
    }
   ],
   "source": [
    "strategies[0], test_num_impute(strategies[0])"
   ]
  },
  {
   "cell_type": "code",
   "execution_count": 31,
   "metadata": {},
   "outputs": [
    {
     "data": {
      "text/plain": [
       "('median',\n",
       " array([6., 6., 6., 6., 6., 6., 6., 6., 6., 6., 6., 6., 6., 6., 6., 6., 6.,\n",
       "        6., 6., 6., 6., 6., 6., 6., 6., 6., 6., 6., 6., 6., 6., 6., 6., 6.,\n",
       "        6., 6., 6., 6., 6., 6., 6., 6., 6., 6., 6., 6., 6., 6., 6., 6., 6.,\n",
       "        6., 6., 6., 6., 6., 6., 6., 6., 6., 6., 6., 6., 6., 6., 6., 6., 6.,\n",
       "        6., 6., 6., 6., 6., 6., 6., 6., 6., 6., 6., 6., 6., 6., 6., 6., 6.,\n",
       "        6., 6., 6., 6., 6., 6., 6., 6., 6., 6., 6., 6., 6., 6., 6., 6., 6.,\n",
       "        6., 6., 6., 6., 6., 6., 6., 6., 6., 6., 6., 6., 6., 6., 6., 6., 6.,\n",
       "        6., 6., 6., 6., 6., 6., 6., 6., 6., 6., 6., 6., 6., 6., 6., 6., 6.,\n",
       "        6., 6., 6., 6., 6., 6., 6., 6., 6., 6., 6., 6., 6., 6., 6., 6., 6.,\n",
       "        6., 6., 6., 6., 6., 6., 6., 6., 6., 6., 6., 6., 6., 6., 6., 6., 6.,\n",
       "        6., 6., 6., 6., 6., 6., 6., 6., 6., 6., 6., 6., 6., 6., 6., 6., 6.,\n",
       "        6., 6., 6., 6., 6., 6., 6., 6., 6., 6., 6., 6., 6., 6., 6., 6., 6.,\n",
       "        6., 6., 6., 6., 6., 6., 6., 6., 6., 6., 6., 6., 6., 6., 6., 6., 6.,\n",
       "        6., 6., 6., 6., 6., 6., 6., 6., 6., 6., 6., 6., 6., 6., 6., 6., 6.,\n",
       "        6., 6., 6., 6., 6., 6., 6., 6., 6., 6., 6., 6., 6., 6., 6., 6., 6.,\n",
       "        6., 6., 6., 6., 6., 6., 6., 6., 6., 6., 6., 6., 6., 6., 6., 6., 6.,\n",
       "        6., 6., 6., 6., 6., 6., 6., 6., 6., 6., 6., 6., 6., 6., 6., 6., 6.,\n",
       "        6., 6., 6., 6., 6., 6., 6., 6., 6., 6., 6., 6., 6., 6., 6., 6., 6.,\n",
       "        6., 6., 6., 6., 6., 6., 6., 6., 6., 6., 6., 6., 6., 6., 6., 6., 6.,\n",
       "        6., 6., 6., 6., 6., 6., 6., 6., 6., 6., 6., 6., 6., 6., 6., 6., 6.,\n",
       "        6., 6., 6., 6., 6., 6., 6., 6., 6., 6., 6., 6., 6., 6., 6.]))"
      ]
     },
     "execution_count": 31,
     "metadata": {},
     "output_type": "execute_result"
    }
   ],
   "source": [
    "strategies[1], test_num_impute(strategies[1])"
   ]
  },
  {
   "cell_type": "code",
   "execution_count": 32,
   "metadata": {},
   "outputs": [
    {
     "data": {
      "text/plain": [
       "('most_frequent',\n",
       " array([1., 1., 1., 1., 1., 1., 1., 1., 1., 1., 1., 1., 1., 1., 1., 1., 1.,\n",
       "        1., 1., 1., 1., 1., 1., 1., 1., 1., 1., 1., 1., 1., 1., 1., 1., 1.,\n",
       "        1., 1., 1., 1., 1., 1., 1., 1., 1., 1., 1., 1., 1., 1., 1., 1., 1.,\n",
       "        1., 1., 1., 1., 1., 1., 1., 1., 1., 1., 1., 1., 1., 1., 1., 1., 1.,\n",
       "        1., 1., 1., 1., 1., 1., 1., 1., 1., 1., 1., 1., 1., 1., 1., 1., 1.,\n",
       "        1., 1., 1., 1., 1., 1., 1., 1., 1., 1., 1., 1., 1., 1., 1., 1., 1.,\n",
       "        1., 1., 1., 1., 1., 1., 1., 1., 1., 1., 1., 1., 1., 1., 1., 1., 1.,\n",
       "        1., 1., 1., 1., 1., 1., 1., 1., 1., 1., 1., 1., 1., 1., 1., 1., 1.,\n",
       "        1., 1., 1., 1., 1., 1., 1., 1., 1., 1., 1., 1., 1., 1., 1., 1., 1.,\n",
       "        1., 1., 1., 1., 1., 1., 1., 1., 1., 1., 1., 1., 1., 1., 1., 1., 1.,\n",
       "        1., 1., 1., 1., 1., 1., 1., 1., 1., 1., 1., 1., 1., 1., 1., 1., 1.,\n",
       "        1., 1., 1., 1., 1., 1., 1., 1., 1., 1., 1., 1., 1., 1., 1., 1., 1.,\n",
       "        1., 1., 1., 1., 1., 1., 1., 1., 1., 1., 1., 1., 1., 1., 1., 1., 1.,\n",
       "        1., 1., 1., 1., 1., 1., 1., 1., 1., 1., 1., 1., 1., 1., 1., 1., 1.,\n",
       "        1., 1., 1., 1., 1., 1., 1., 1., 1., 1., 1., 1., 1., 1., 1., 1., 1.,\n",
       "        1., 1., 1., 1., 1., 1., 1., 1., 1., 1., 1., 1., 1., 1., 1., 1., 1.,\n",
       "        1., 1., 1., 1., 1., 1., 1., 1., 1., 1., 1., 1., 1., 1., 1., 1., 1.,\n",
       "        1., 1., 1., 1., 1., 1., 1., 1., 1., 1., 1., 1., 1., 1., 1., 1., 1.,\n",
       "        1., 1., 1., 1., 1., 1., 1., 1., 1., 1., 1., 1., 1., 1., 1., 1., 1.,\n",
       "        1., 1., 1., 1., 1., 1., 1., 1., 1., 1., 1., 1., 1., 1., 1., 1., 1.,\n",
       "        1., 1., 1., 1., 1., 1., 1., 1., 1., 1., 1., 1., 1., 1., 1.]))"
      ]
     },
     "execution_count": 32,
     "metadata": {},
     "output_type": "execute_result"
    }
   ],
   "source": [
    "strategies[2], test_num_impute(strategies[2])"
   ]
  },
  {
   "cell_type": "code",
   "execution_count": 33,
   "metadata": {},
   "outputs": [],
   "source": [
    "# Более сложная функция, которая позволяет задавать колонку и вид импьютации\n",
    "def test_num_impute_col(dataset, column, strategy_param):\n",
    "    temp_data = dataset[[column]]\n",
    "    \n",
    "    indicator = MissingIndicator()\n",
    "    mask_missing_values_only = indicator.fit_transform(temp_data)\n",
    "    \n",
    "    imp_num = SimpleImputer(strategy=strategy_param)\n",
    "    data_num_imp = imp_num.fit_transform(temp_data)\n",
    "    \n",
    "    filled_data = data_num_imp[mask_missing_values_only]\n",
    "    \n",
    "    return column, strategy_param, filled_data.size, filled_data[0], filled_data[filled_data.size-1]"
   ]
  },
  {
   "cell_type": "code",
   "execution_count": 35,
   "metadata": {},
   "outputs": [
    {
     "data": {
      "text/html": [
       "<div>\n",
       "<style scoped>\n",
       "    .dataframe tbody tr th:only-of-type {\n",
       "        vertical-align: middle;\n",
       "    }\n",
       "\n",
       "    .dataframe tbody tr th {\n",
       "        vertical-align: top;\n",
       "    }\n",
       "\n",
       "    .dataframe thead th {\n",
       "        text-align: right;\n",
       "    }\n",
       "</style>\n",
       "<table border=\"1\" class=\"dataframe\">\n",
       "  <thead>\n",
       "    <tr style=\"text-align: right;\">\n",
       "      <th></th>\n",
       "      <th>APPEARANCES</th>\n",
       "    </tr>\n",
       "  </thead>\n",
       "  <tbody>\n",
       "    <tr>\n",
       "      <th>count</th>\n",
       "      <td>6541.000000</td>\n",
       "    </tr>\n",
       "    <tr>\n",
       "      <th>mean</th>\n",
       "      <td>23.625134</td>\n",
       "    </tr>\n",
       "    <tr>\n",
       "      <th>std</th>\n",
       "      <td>87.378509</td>\n",
       "    </tr>\n",
       "    <tr>\n",
       "      <th>min</th>\n",
       "      <td>1.000000</td>\n",
       "    </tr>\n",
       "    <tr>\n",
       "      <th>25%</th>\n",
       "      <td>2.000000</td>\n",
       "    </tr>\n",
       "    <tr>\n",
       "      <th>50%</th>\n",
       "      <td>6.000000</td>\n",
       "    </tr>\n",
       "    <tr>\n",
       "      <th>75%</th>\n",
       "      <td>15.000000</td>\n",
       "    </tr>\n",
       "    <tr>\n",
       "      <th>max</th>\n",
       "      <td>3093.000000</td>\n",
       "    </tr>\n",
       "  </tbody>\n",
       "</table>\n",
       "</div>"
      ],
      "text/plain": [
       "       APPEARANCES\n",
       "count  6541.000000\n",
       "mean     23.625134\n",
       "std      87.378509\n",
       "min       1.000000\n",
       "25%       2.000000\n",
       "50%       6.000000\n",
       "75%      15.000000\n",
       "max    3093.000000"
      ]
     },
     "execution_count": 35,
     "metadata": {},
     "output_type": "execute_result"
    }
   ],
   "source": [
    "data[['APPEARANCES']].describe()"
   ]
  },
  {
   "cell_type": "code",
   "execution_count": 36,
   "metadata": {},
   "outputs": [
    {
     "data": {
      "text/plain": [
       "('APPEARANCES', 'mean', 355, 23.62513377159456, 23.62513377159456)"
      ]
     },
     "execution_count": 36,
     "metadata": {},
     "output_type": "execute_result"
    }
   ],
   "source": [
    "test_num_impute_col(data, 'APPEARANCES', strategies[0])"
   ]
  },
  {
   "cell_type": "code",
   "execution_count": 37,
   "metadata": {},
   "outputs": [
    {
     "data": {
      "text/plain": [
       "('APPEARANCES', 'median', 355, 6.0, 6.0)"
      ]
     },
     "execution_count": 37,
     "metadata": {},
     "output_type": "execute_result"
    }
   ],
   "source": [
    "test_num_impute_col(data, 'APPEARANCES', strategies[1])"
   ]
  },
  {
   "cell_type": "code",
   "execution_count": 38,
   "metadata": {},
   "outputs": [
    {
     "data": {
      "text/plain": [
       "('APPEARANCES', 'most_frequent', 355, 1.0, 1.0)"
      ]
     },
     "execution_count": 38,
     "metadata": {},
     "output_type": "execute_result"
    }
   ],
   "source": [
    "test_num_impute_col(data, 'APPEARANCES', strategies[2])"
   ]
  },
  {
   "cell_type": "code",
   "execution_count": 39,
   "metadata": {},
   "outputs": [
    {
     "name": "stdout",
     "output_type": "stream",
     "text": [
      "Колонка ID. Тип данных object. Количество пустых значений 2013, 29.19%.\n",
      "Колонка ALIGN. Тип данных object. Количество пустых значений 601, 8.72%.\n",
      "Колонка EYE. Тип данных object. Количество пустых значений 3628, 52.61%.\n",
      "Колонка HAIR. Тип данных object. Количество пустых значений 2274, 32.98%.\n",
      "Колонка SEX. Тип данных object. Количество пустых значений 125, 1.81%.\n",
      "Колонка GSM. Тип данных object. Количество пустых значений 6832, 99.07%.\n",
      "Колонка ALIVE. Тип данных object. Количество пустых значений 3, 0.04%.\n",
      "Колонка FIRST APPEARANCE. Тип данных object. Количество пустых значений 69, 1.0%.\n"
     ]
    }
   ],
   "source": [
    "# Выберем категориальные колонки с пропущенными значениями\n",
    "# Цикл по колонкам датасета\n",
    "cat_cols = []\n",
    "for col in data.columns:\n",
    "    # Количество пустых значений \n",
    "    temp_null_count = data[data[col].isnull()].shape[0]\n",
    "    dt = str(data[col].dtype)\n",
    "    if temp_null_count>0 and (dt=='object'):\n",
    "        cat_cols.append(col)\n",
    "        temp_perc = round((temp_null_count / total_count) * 100.0, 2)\n",
    "        print('Колонка {}. Тип данных {}. Количество пустых значений {}, {}%.'.format(col, dt, temp_null_count, temp_perc))"
   ]
  },
  {
   "cell_type": "code",
   "execution_count": 40,
   "metadata": {},
   "outputs": [
    {
     "data": {
      "text/html": [
       "<div>\n",
       "<style scoped>\n",
       "    .dataframe tbody tr th:only-of-type {\n",
       "        vertical-align: middle;\n",
       "    }\n",
       "\n",
       "    .dataframe tbody tr th {\n",
       "        vertical-align: top;\n",
       "    }\n",
       "\n",
       "    .dataframe thead th {\n",
       "        text-align: right;\n",
       "    }\n",
       "</style>\n",
       "<table border=\"1\" class=\"dataframe\">\n",
       "  <thead>\n",
       "    <tr style=\"text-align: right;\">\n",
       "      <th></th>\n",
       "      <th>APPEARANCES</th>\n",
       "    </tr>\n",
       "  </thead>\n",
       "  <tbody>\n",
       "    <tr>\n",
       "      <th>0</th>\n",
       "      <td>3093.0</td>\n",
       "    </tr>\n",
       "    <tr>\n",
       "      <th>1</th>\n",
       "      <td>2496.0</td>\n",
       "    </tr>\n",
       "    <tr>\n",
       "      <th>2</th>\n",
       "      <td>1565.0</td>\n",
       "    </tr>\n",
       "    <tr>\n",
       "      <th>3</th>\n",
       "      <td>1316.0</td>\n",
       "    </tr>\n",
       "    <tr>\n",
       "      <th>4</th>\n",
       "      <td>1237.0</td>\n",
       "    </tr>\n",
       "  </tbody>\n",
       "</table>\n",
       "</div>"
      ],
      "text/plain": [
       "   APPEARANCES\n",
       "0       3093.0\n",
       "1       2496.0\n",
       "2       1565.0\n",
       "3       1316.0\n",
       "4       1237.0"
      ]
     },
     "execution_count": 40,
     "metadata": {},
     "output_type": "execute_result"
    }
   ],
   "source": [
    "cat_temp_data = data[['APPEARANCES']]\n",
    "cat_temp_data.head()"
   ]
  },
  {
   "cell_type": "code",
   "execution_count": 41,
   "metadata": {},
   "outputs": [
    {
     "data": {
      "text/plain": [
       "array([3.093e+03, 2.496e+03, 1.565e+03, 1.316e+03, 1.237e+03, 1.231e+03,\n",
       "       1.121e+03, 1.095e+03, 1.075e+03, 1.028e+03, 9.690e+02, 9.510e+02,\n",
       "       9.340e+02, 9.300e+02, 8.030e+02, 7.160e+02, 7.060e+02, 6.770e+02,\n",
       "       6.540e+02, 6.350e+02, 6.050e+02, 5.950e+02, 5.930e+02, 5.840e+02,\n",
       "       5.600e+02, 5.580e+02, 5.570e+02, 5.490e+02, 5.170e+02, 4.920e+02,\n",
       "       4.870e+02, 4.700e+02, 4.390e+02, 4.360e+02, 4.290e+02, 4.270e+02,\n",
       "       4.230e+02, 4.220e+02, 4.130e+02, 3.990e+02, 3.930e+02, 3.910e+02,\n",
       "       3.880e+02, 3.860e+02, 3.740e+02, 3.710e+02, 3.700e+02, 3.610e+02,\n",
       "       3.560e+02, 3.530e+02, 3.500e+02, 3.450e+02, 3.440e+02, 3.360e+02,\n",
       "       3.350e+02, 3.250e+02, 3.210e+02, 3.190e+02, 3.140e+02, 3.110e+02,\n",
       "       3.090e+02, 3.080e+02, 3.060e+02, 3.050e+02, 3.010e+02, 3.000e+02,\n",
       "       2.990e+02, 2.970e+02, 2.910e+02, 2.880e+02, 2.860e+02, 2.840e+02,\n",
       "       2.820e+02, 2.680e+02, 2.660e+02, 2.620e+02, 2.610e+02, 2.560e+02,\n",
       "       2.540e+02, 2.530e+02, 2.520e+02, 2.500e+02, 2.450e+02, 2.410e+02,\n",
       "       2.390e+02, 2.370e+02, 2.350e+02, 2.340e+02, 2.310e+02, 2.290e+02,\n",
       "       2.280e+02, 2.270e+02, 2.260e+02, 2.250e+02, 2.240e+02, 2.220e+02,\n",
       "       2.190e+02, 2.180e+02, 2.160e+02, 2.140e+02, 2.130e+02, 2.120e+02,\n",
       "       2.080e+02, 2.070e+02, 2.060e+02, 1.990e+02, 1.980e+02, 1.920e+02,\n",
       "       1.910e+02, 1.890e+02, 1.880e+02, 1.840e+02, 1.830e+02, 1.820e+02,\n",
       "       1.810e+02, 1.800e+02, 1.790e+02, 1.770e+02, 1.760e+02, 1.750e+02,\n",
       "       1.740e+02, 1.730e+02, 1.710e+02, 1.700e+02, 1.680e+02, 1.670e+02,\n",
       "       1.660e+02, 1.650e+02, 1.640e+02, 1.630e+02, 1.620e+02, 1.610e+02,\n",
       "       1.600e+02, 1.590e+02, 1.580e+02, 1.570e+02, 1.550e+02, 1.540e+02,\n",
       "       1.530e+02, 1.520e+02, 1.510e+02, 1.480e+02, 1.470e+02, 1.430e+02,\n",
       "       1.420e+02, 1.410e+02, 1.400e+02, 1.390e+02, 1.380e+02, 1.370e+02,\n",
       "       1.360e+02, 1.340e+02, 1.330e+02, 1.320e+02, 1.310e+02, 1.300e+02,\n",
       "       1.290e+02, 1.280e+02, 1.270e+02, 1.260e+02, 1.250e+02, 1.240e+02,\n",
       "       1.230e+02, 1.220e+02, 1.210e+02, 1.200e+02, 1.180e+02, 1.160e+02,\n",
       "       1.150e+02, 1.140e+02, 1.130e+02, 1.110e+02, 1.100e+02, 1.090e+02,\n",
       "       1.080e+02, 1.070e+02, 1.060e+02, 1.050e+02, 1.040e+02, 1.030e+02,\n",
       "       1.020e+02, 1.010e+02, 1.000e+02, 9.900e+01, 9.800e+01, 9.700e+01,\n",
       "       9.600e+01, 9.500e+01, 9.400e+01, 9.300e+01, 9.200e+01, 9.100e+01,\n",
       "       9.000e+01, 8.900e+01, 8.800e+01, 8.700e+01, 8.600e+01, 8.500e+01,\n",
       "       8.400e+01, 8.300e+01, 8.200e+01, 8.100e+01, 8.000e+01, 7.900e+01,\n",
       "       7.800e+01, 7.700e+01, 7.600e+01, 7.500e+01, 7.400e+01, 7.300e+01,\n",
       "       7.200e+01, 7.100e+01, 7.000e+01, 6.900e+01, 6.800e+01, 6.700e+01,\n",
       "       6.600e+01, 6.500e+01, 6.400e+01, 6.300e+01, 6.200e+01, 6.100e+01,\n",
       "       6.000e+01, 5.900e+01, 5.800e+01, 5.700e+01, 5.600e+01, 5.500e+01,\n",
       "       5.400e+01, 5.300e+01, 5.200e+01, 5.100e+01, 5.000e+01, 4.900e+01,\n",
       "       4.800e+01, 4.700e+01, 4.600e+01, 4.500e+01, 4.400e+01, 4.300e+01,\n",
       "       4.200e+01, 4.100e+01, 4.000e+01, 3.900e+01, 3.800e+01, 3.700e+01,\n",
       "       3.600e+01, 3.500e+01, 3.400e+01, 3.300e+01, 3.200e+01, 3.100e+01,\n",
       "       3.000e+01, 2.900e+01, 2.800e+01, 2.700e+01, 2.600e+01, 2.500e+01,\n",
       "       2.400e+01, 2.300e+01, 2.200e+01, 2.100e+01, 2.000e+01, 1.900e+01,\n",
       "       1.800e+01, 1.700e+01, 1.600e+01, 1.500e+01, 1.400e+01, 1.300e+01,\n",
       "       1.200e+01, 1.100e+01, 1.000e+01, 9.000e+00, 8.000e+00, 7.000e+00,\n",
       "       6.000e+00, 5.000e+00, 4.000e+00, 3.000e+00, 2.000e+00, 1.000e+00,\n",
       "             nan])"
      ]
     },
     "execution_count": 41,
     "metadata": {},
     "output_type": "execute_result"
    }
   ],
   "source": [
    "cat_temp_data['APPEARANCES'].unique()"
   ]
  },
  {
   "cell_type": "code",
   "execution_count": 42,
   "metadata": {},
   "outputs": [
    {
     "data": {
      "text/plain": [
       "(355, 1)"
      ]
     },
     "execution_count": 42,
     "metadata": {},
     "output_type": "execute_result"
    }
   ],
   "source": [
    "cat_temp_data[cat_temp_data['APPEARANCES'].isnull()].shape"
   ]
  },
  {
   "cell_type": "code",
   "execution_count": 43,
   "metadata": {},
   "outputs": [
    {
     "data": {
      "text/plain": [
       "array([[3.093e+03],\n",
       "       [2.496e+03],\n",
       "       [1.565e+03],\n",
       "       ...,\n",
       "       [1.000e+00],\n",
       "       [1.000e+00],\n",
       "       [1.000e+00]])"
      ]
     },
     "execution_count": 43,
     "metadata": {},
     "output_type": "execute_result"
    }
   ],
   "source": [
    "# Импьютация наиболее частыми значениями\n",
    "imp2 = SimpleImputer(missing_values=np.nan, strategy='most_frequent')\n",
    "data_imp2 = imp2.fit_transform(cat_temp_data)\n",
    "data_imp2"
   ]
  },
  {
   "cell_type": "code",
   "execution_count": 44,
   "metadata": {},
   "outputs": [
    {
     "data": {
      "text/plain": [
       "array([1.000e+00, 2.000e+00, 3.000e+00, 4.000e+00, 5.000e+00, 6.000e+00,\n",
       "       7.000e+00, 8.000e+00, 9.000e+00, 1.000e+01, 1.100e+01, 1.200e+01,\n",
       "       1.300e+01, 1.400e+01, 1.500e+01, 1.600e+01, 1.700e+01, 1.800e+01,\n",
       "       1.900e+01, 2.000e+01, 2.100e+01, 2.200e+01, 2.300e+01, 2.400e+01,\n",
       "       2.500e+01, 2.600e+01, 2.700e+01, 2.800e+01, 2.900e+01, 3.000e+01,\n",
       "       3.100e+01, 3.200e+01, 3.300e+01, 3.400e+01, 3.500e+01, 3.600e+01,\n",
       "       3.700e+01, 3.800e+01, 3.900e+01, 4.000e+01, 4.100e+01, 4.200e+01,\n",
       "       4.300e+01, 4.400e+01, 4.500e+01, 4.600e+01, 4.700e+01, 4.800e+01,\n",
       "       4.900e+01, 5.000e+01, 5.100e+01, 5.200e+01, 5.300e+01, 5.400e+01,\n",
       "       5.500e+01, 5.600e+01, 5.700e+01, 5.800e+01, 5.900e+01, 6.000e+01,\n",
       "       6.100e+01, 6.200e+01, 6.300e+01, 6.400e+01, 6.500e+01, 6.600e+01,\n",
       "       6.700e+01, 6.800e+01, 6.900e+01, 7.000e+01, 7.100e+01, 7.200e+01,\n",
       "       7.300e+01, 7.400e+01, 7.500e+01, 7.600e+01, 7.700e+01, 7.800e+01,\n",
       "       7.900e+01, 8.000e+01, 8.100e+01, 8.200e+01, 8.300e+01, 8.400e+01,\n",
       "       8.500e+01, 8.600e+01, 8.700e+01, 8.800e+01, 8.900e+01, 9.000e+01,\n",
       "       9.100e+01, 9.200e+01, 9.300e+01, 9.400e+01, 9.500e+01, 9.600e+01,\n",
       "       9.700e+01, 9.800e+01, 9.900e+01, 1.000e+02, 1.010e+02, 1.020e+02,\n",
       "       1.030e+02, 1.040e+02, 1.050e+02, 1.060e+02, 1.070e+02, 1.080e+02,\n",
       "       1.090e+02, 1.100e+02, 1.110e+02, 1.130e+02, 1.140e+02, 1.150e+02,\n",
       "       1.160e+02, 1.180e+02, 1.200e+02, 1.210e+02, 1.220e+02, 1.230e+02,\n",
       "       1.240e+02, 1.250e+02, 1.260e+02, 1.270e+02, 1.280e+02, 1.290e+02,\n",
       "       1.300e+02, 1.310e+02, 1.320e+02, 1.330e+02, 1.340e+02, 1.360e+02,\n",
       "       1.370e+02, 1.380e+02, 1.390e+02, 1.400e+02, 1.410e+02, 1.420e+02,\n",
       "       1.430e+02, 1.470e+02, 1.480e+02, 1.510e+02, 1.520e+02, 1.530e+02,\n",
       "       1.540e+02, 1.550e+02, 1.570e+02, 1.580e+02, 1.590e+02, 1.600e+02,\n",
       "       1.610e+02, 1.620e+02, 1.630e+02, 1.640e+02, 1.650e+02, 1.660e+02,\n",
       "       1.670e+02, 1.680e+02, 1.700e+02, 1.710e+02, 1.730e+02, 1.740e+02,\n",
       "       1.750e+02, 1.760e+02, 1.770e+02, 1.790e+02, 1.800e+02, 1.810e+02,\n",
       "       1.820e+02, 1.830e+02, 1.840e+02, 1.880e+02, 1.890e+02, 1.910e+02,\n",
       "       1.920e+02, 1.980e+02, 1.990e+02, 2.060e+02, 2.070e+02, 2.080e+02,\n",
       "       2.120e+02, 2.130e+02, 2.140e+02, 2.160e+02, 2.180e+02, 2.190e+02,\n",
       "       2.220e+02, 2.240e+02, 2.250e+02, 2.260e+02, 2.270e+02, 2.280e+02,\n",
       "       2.290e+02, 2.310e+02, 2.340e+02, 2.350e+02, 2.370e+02, 2.390e+02,\n",
       "       2.410e+02, 2.450e+02, 2.500e+02, 2.520e+02, 2.530e+02, 2.540e+02,\n",
       "       2.560e+02, 2.610e+02, 2.620e+02, 2.660e+02, 2.680e+02, 2.820e+02,\n",
       "       2.840e+02, 2.860e+02, 2.880e+02, 2.910e+02, 2.970e+02, 2.990e+02,\n",
       "       3.000e+02, 3.010e+02, 3.050e+02, 3.060e+02, 3.080e+02, 3.090e+02,\n",
       "       3.110e+02, 3.140e+02, 3.190e+02, 3.210e+02, 3.250e+02, 3.350e+02,\n",
       "       3.360e+02, 3.440e+02, 3.450e+02, 3.500e+02, 3.530e+02, 3.560e+02,\n",
       "       3.610e+02, 3.700e+02, 3.710e+02, 3.740e+02, 3.860e+02, 3.880e+02,\n",
       "       3.910e+02, 3.930e+02, 3.990e+02, 4.130e+02, 4.220e+02, 4.230e+02,\n",
       "       4.270e+02, 4.290e+02, 4.360e+02, 4.390e+02, 4.700e+02, 4.870e+02,\n",
       "       4.920e+02, 5.170e+02, 5.490e+02, 5.570e+02, 5.580e+02, 5.600e+02,\n",
       "       5.840e+02, 5.930e+02, 5.950e+02, 6.050e+02, 6.350e+02, 6.540e+02,\n",
       "       6.770e+02, 7.060e+02, 7.160e+02, 8.030e+02, 9.300e+02, 9.340e+02,\n",
       "       9.510e+02, 9.690e+02, 1.028e+03, 1.075e+03, 1.095e+03, 1.121e+03,\n",
       "       1.231e+03, 1.237e+03, 1.316e+03, 1.565e+03, 2.496e+03, 3.093e+03])"
      ]
     },
     "execution_count": 44,
     "metadata": {},
     "output_type": "execute_result"
    }
   ],
   "source": [
    "# Пустые значения отсутствуют\n",
    "np.unique(data_imp2)"
   ]
  },
  {
   "cell_type": "markdown",
   "metadata": {},
   "source": [
    "2 Преобразование категориальных признаков в числовые"
   ]
  },
  {
   "cell_type": "code",
   "execution_count": 46,
   "metadata": {},
   "outputs": [
    {
     "data": {
      "text/html": [
       "<div>\n",
       "<style scoped>\n",
       "    .dataframe tbody tr th:only-of-type {\n",
       "        vertical-align: middle;\n",
       "    }\n",
       "\n",
       "    .dataframe tbody tr th {\n",
       "        vertical-align: top;\n",
       "    }\n",
       "\n",
       "    .dataframe thead th {\n",
       "        text-align: right;\n",
       "    }\n",
       "</style>\n",
       "<table border=\"1\" class=\"dataframe\">\n",
       "  <thead>\n",
       "    <tr style=\"text-align: right;\">\n",
       "      <th></th>\n",
       "      <th>c1</th>\n",
       "    </tr>\n",
       "  </thead>\n",
       "  <tbody>\n",
       "    <tr>\n",
       "      <th>0</th>\n",
       "      <td>3093.0</td>\n",
       "    </tr>\n",
       "    <tr>\n",
       "      <th>1</th>\n",
       "      <td>2496.0</td>\n",
       "    </tr>\n",
       "    <tr>\n",
       "      <th>2</th>\n",
       "      <td>1565.0</td>\n",
       "    </tr>\n",
       "    <tr>\n",
       "      <th>3</th>\n",
       "      <td>1316.0</td>\n",
       "    </tr>\n",
       "    <tr>\n",
       "      <th>4</th>\n",
       "      <td>1237.0</td>\n",
       "    </tr>\n",
       "    <tr>\n",
       "      <th>...</th>\n",
       "      <td>...</td>\n",
       "    </tr>\n",
       "    <tr>\n",
       "      <th>6891</th>\n",
       "      <td>1.0</td>\n",
       "    </tr>\n",
       "    <tr>\n",
       "      <th>6892</th>\n",
       "      <td>1.0</td>\n",
       "    </tr>\n",
       "    <tr>\n",
       "      <th>6893</th>\n",
       "      <td>1.0</td>\n",
       "    </tr>\n",
       "    <tr>\n",
       "      <th>6894</th>\n",
       "      <td>1.0</td>\n",
       "    </tr>\n",
       "    <tr>\n",
       "      <th>6895</th>\n",
       "      <td>1.0</td>\n",
       "    </tr>\n",
       "  </tbody>\n",
       "</table>\n",
       "<p>6896 rows × 1 columns</p>\n",
       "</div>"
      ],
      "text/plain": [
       "          c1\n",
       "0     3093.0\n",
       "1     2496.0\n",
       "2     1565.0\n",
       "3     1316.0\n",
       "4     1237.0\n",
       "...      ...\n",
       "6891     1.0\n",
       "6892     1.0\n",
       "6893     1.0\n",
       "6894     1.0\n",
       "6895     1.0\n",
       "\n",
       "[6896 rows x 1 columns]"
      ]
     },
     "execution_count": 46,
     "metadata": {},
     "output_type": "execute_result"
    }
   ],
   "source": [
    "cat_enc = pd.DataFrame({'c1':data_imp2.T[0]})\n",
    "cat_enc\n"
   ]
  },
  {
   "cell_type": "code",
   "execution_count": 47,
   "metadata": {},
   "outputs": [],
   "source": [
    "\n",
    "from sklearn.preprocessing import LabelEncoder, OneHotEncoder"
   ]
  },
  {
   "cell_type": "code",
   "execution_count": 48,
   "metadata": {},
   "outputs": [],
   "source": [
    "le = LabelEncoder()\n",
    "cat_enc_le = le.fit_transform(cat_enc['c1'])"
   ]
  },
  {
   "cell_type": "code",
   "execution_count": 49,
   "metadata": {},
   "outputs": [
    {
     "data": {
      "text/plain": [
       "array([3.093e+03, 2.496e+03, 1.565e+03, 1.316e+03, 1.237e+03, 1.231e+03,\n",
       "       1.121e+03, 1.095e+03, 1.075e+03, 1.028e+03, 9.690e+02, 9.510e+02,\n",
       "       9.340e+02, 9.300e+02, 8.030e+02, 7.160e+02, 7.060e+02, 6.770e+02,\n",
       "       6.540e+02, 6.350e+02, 6.050e+02, 5.950e+02, 5.930e+02, 5.840e+02,\n",
       "       5.600e+02, 5.580e+02, 5.570e+02, 5.490e+02, 5.170e+02, 4.920e+02,\n",
       "       4.870e+02, 4.700e+02, 4.390e+02, 4.360e+02, 4.290e+02, 4.270e+02,\n",
       "       4.230e+02, 4.220e+02, 4.130e+02, 3.990e+02, 3.930e+02, 3.910e+02,\n",
       "       3.880e+02, 3.860e+02, 3.740e+02, 3.710e+02, 3.700e+02, 3.610e+02,\n",
       "       3.560e+02, 3.530e+02, 3.500e+02, 3.450e+02, 3.440e+02, 3.360e+02,\n",
       "       3.350e+02, 3.250e+02, 3.210e+02, 3.190e+02, 3.140e+02, 3.110e+02,\n",
       "       3.090e+02, 3.080e+02, 3.060e+02, 3.050e+02, 3.010e+02, 3.000e+02,\n",
       "       2.990e+02, 2.970e+02, 2.910e+02, 2.880e+02, 2.860e+02, 2.840e+02,\n",
       "       2.820e+02, 2.680e+02, 2.660e+02, 2.620e+02, 2.610e+02, 2.560e+02,\n",
       "       2.540e+02, 2.530e+02, 2.520e+02, 2.500e+02, 2.450e+02, 2.410e+02,\n",
       "       2.390e+02, 2.370e+02, 2.350e+02, 2.340e+02, 2.310e+02, 2.290e+02,\n",
       "       2.280e+02, 2.270e+02, 2.260e+02, 2.250e+02, 2.240e+02, 2.220e+02,\n",
       "       2.190e+02, 2.180e+02, 2.160e+02, 2.140e+02, 2.130e+02, 2.120e+02,\n",
       "       2.080e+02, 2.070e+02, 2.060e+02, 1.990e+02, 1.980e+02, 1.920e+02,\n",
       "       1.910e+02, 1.890e+02, 1.880e+02, 1.840e+02, 1.830e+02, 1.820e+02,\n",
       "       1.810e+02, 1.800e+02, 1.790e+02, 1.770e+02, 1.760e+02, 1.750e+02,\n",
       "       1.740e+02, 1.730e+02, 1.710e+02, 1.700e+02, 1.680e+02, 1.670e+02,\n",
       "       1.660e+02, 1.650e+02, 1.640e+02, 1.630e+02, 1.620e+02, 1.610e+02,\n",
       "       1.600e+02, 1.590e+02, 1.580e+02, 1.570e+02, 1.550e+02, 1.540e+02,\n",
       "       1.530e+02, 1.520e+02, 1.510e+02, 1.480e+02, 1.470e+02, 1.430e+02,\n",
       "       1.420e+02, 1.410e+02, 1.400e+02, 1.390e+02, 1.380e+02, 1.370e+02,\n",
       "       1.360e+02, 1.340e+02, 1.330e+02, 1.320e+02, 1.310e+02, 1.300e+02,\n",
       "       1.290e+02, 1.280e+02, 1.270e+02, 1.260e+02, 1.250e+02, 1.240e+02,\n",
       "       1.230e+02, 1.220e+02, 1.210e+02, 1.200e+02, 1.180e+02, 1.160e+02,\n",
       "       1.150e+02, 1.140e+02, 1.130e+02, 1.110e+02, 1.100e+02, 1.090e+02,\n",
       "       1.080e+02, 1.070e+02, 1.060e+02, 1.050e+02, 1.040e+02, 1.030e+02,\n",
       "       1.020e+02, 1.010e+02, 1.000e+02, 9.900e+01, 9.800e+01, 9.700e+01,\n",
       "       9.600e+01, 9.500e+01, 9.400e+01, 9.300e+01, 9.200e+01, 9.100e+01,\n",
       "       9.000e+01, 8.900e+01, 8.800e+01, 8.700e+01, 8.600e+01, 8.500e+01,\n",
       "       8.400e+01, 8.300e+01, 8.200e+01, 8.100e+01, 8.000e+01, 7.900e+01,\n",
       "       7.800e+01, 7.700e+01, 7.600e+01, 7.500e+01, 7.400e+01, 7.300e+01,\n",
       "       7.200e+01, 7.100e+01, 7.000e+01, 6.900e+01, 6.800e+01, 6.700e+01,\n",
       "       6.600e+01, 6.500e+01, 6.400e+01, 6.300e+01, 6.200e+01, 6.100e+01,\n",
       "       6.000e+01, 5.900e+01, 5.800e+01, 5.700e+01, 5.600e+01, 5.500e+01,\n",
       "       5.400e+01, 5.300e+01, 5.200e+01, 5.100e+01, 5.000e+01, 4.900e+01,\n",
       "       4.800e+01, 4.700e+01, 4.600e+01, 4.500e+01, 4.400e+01, 4.300e+01,\n",
       "       4.200e+01, 4.100e+01, 4.000e+01, 3.900e+01, 3.800e+01, 3.700e+01,\n",
       "       3.600e+01, 3.500e+01, 3.400e+01, 3.300e+01, 3.200e+01, 3.100e+01,\n",
       "       3.000e+01, 2.900e+01, 2.800e+01, 2.700e+01, 2.600e+01, 2.500e+01,\n",
       "       2.400e+01, 2.300e+01, 2.200e+01, 2.100e+01, 2.000e+01, 1.900e+01,\n",
       "       1.800e+01, 1.700e+01, 1.600e+01, 1.500e+01, 1.400e+01, 1.300e+01,\n",
       "       1.200e+01, 1.100e+01, 1.000e+01, 9.000e+00, 8.000e+00, 7.000e+00,\n",
       "       6.000e+00, 5.000e+00, 4.000e+00, 3.000e+00, 2.000e+00, 1.000e+00])"
      ]
     },
     "execution_count": 49,
     "metadata": {},
     "output_type": "execute_result"
    }
   ],
   "source": [
    "cat_enc['c1'].unique()"
   ]
  },
  {
   "cell_type": "code",
   "execution_count": 50,
   "metadata": {},
   "outputs": [
    {
     "data": {
      "text/plain": [
       "array([  0,   1,   2,   3,   4,   5,   6,   7,   8,   9,  10,  11,  12,\n",
       "        13,  14,  15,  16,  17,  18,  19,  20,  21,  22,  23,  24,  25,\n",
       "        26,  27,  28,  29,  30,  31,  32,  33,  34,  35,  36,  37,  38,\n",
       "        39,  40,  41,  42,  43,  44,  45,  46,  47,  48,  49,  50,  51,\n",
       "        52,  53,  54,  55,  56,  57,  58,  59,  60,  61,  62,  63,  64,\n",
       "        65,  66,  67,  68,  69,  70,  71,  72,  73,  74,  75,  76,  77,\n",
       "        78,  79,  80,  81,  82,  83,  84,  85,  86,  87,  88,  89,  90,\n",
       "        91,  92,  93,  94,  95,  96,  97,  98,  99, 100, 101, 102, 103,\n",
       "       104, 105, 106, 107, 108, 109, 110, 111, 112, 113, 114, 115, 116,\n",
       "       117, 118, 119, 120, 121, 122, 123, 124, 125, 126, 127, 128, 129,\n",
       "       130, 131, 132, 133, 134, 135, 136, 137, 138, 139, 140, 141, 142,\n",
       "       143, 144, 145, 146, 147, 148, 149, 150, 151, 152, 153, 154, 155,\n",
       "       156, 157, 158, 159, 160, 161, 162, 163, 164, 165, 166, 167, 168,\n",
       "       169, 170, 171, 172, 173, 174, 175, 176, 177, 178, 179, 180, 181,\n",
       "       182, 183, 184, 185, 186, 187, 188, 189, 190, 191, 192, 193, 194,\n",
       "       195, 196, 197, 198, 199, 200, 201, 202, 203, 204, 205, 206, 207,\n",
       "       208, 209, 210, 211, 212, 213, 214, 215, 216, 217, 218, 219, 220,\n",
       "       221, 222, 223, 224, 225, 226, 227, 228, 229, 230, 231, 232, 233,\n",
       "       234, 235, 236, 237, 238, 239, 240, 241, 242, 243, 244, 245, 246,\n",
       "       247, 248, 249, 250, 251, 252, 253, 254, 255, 256, 257, 258, 259,\n",
       "       260, 261, 262, 263, 264, 265, 266, 267, 268, 269, 270, 271, 272,\n",
       "       273, 274, 275, 276, 277, 278, 279, 280, 281], dtype=int64)"
      ]
     },
     "execution_count": 50,
     "metadata": {},
     "output_type": "execute_result"
    }
   ],
   "source": [
    "np.unique(cat_enc_le)"
   ]
  },
  {
   "cell_type": "code",
   "execution_count": 51,
   "metadata": {},
   "outputs": [
    {
     "data": {
      "text/plain": [
       "array([1., 2., 3., 4.])"
      ]
     },
     "execution_count": 51,
     "metadata": {},
     "output_type": "execute_result"
    }
   ],
   "source": [
    "le.inverse_transform([0, 1, 2, 3])"
   ]
  },
  {
   "cell_type": "code",
   "execution_count": 52,
   "metadata": {},
   "outputs": [],
   "source": [
    "ohe = OneHotEncoder()\n",
    "cat_enc_ohe = ohe.fit_transform(cat_enc[['c1']])"
   ]
  },
  {
   "cell_type": "code",
   "execution_count": 53,
   "metadata": {},
   "outputs": [
    {
     "data": {
      "text/plain": [
       "(6896, 1)"
      ]
     },
     "execution_count": 53,
     "metadata": {},
     "output_type": "execute_result"
    }
   ],
   "source": [
    "cat_enc.shape"
   ]
  },
  {
   "cell_type": "code",
   "execution_count": 54,
   "metadata": {},
   "outputs": [
    {
     "data": {
      "text/plain": [
       "<6896x282 sparse matrix of type '<class 'numpy.float64'>'\n",
       "\twith 6896 stored elements in Compressed Sparse Row format>"
      ]
     },
     "execution_count": 54,
     "metadata": {},
     "output_type": "execute_result"
    }
   ],
   "source": [
    "cat_enc_ohe"
   ]
  },
  {
   "cell_type": "code",
   "execution_count": 55,
   "metadata": {},
   "outputs": [
    {
     "data": {
      "text/plain": [
       "matrix([[0., 0., 0., ..., 0., 0., 1.],\n",
       "        [0., 0., 0., ..., 0., 1., 0.],\n",
       "        [0., 0., 0., ..., 1., 0., 0.],\n",
       "        ...,\n",
       "        [0., 0., 0., ..., 0., 0., 0.],\n",
       "        [0., 0., 0., ..., 0., 0., 0.],\n",
       "        [0., 0., 0., ..., 0., 0., 0.]])"
      ]
     },
     "execution_count": 55,
     "metadata": {},
     "output_type": "execute_result"
    }
   ],
   "source": [
    "cat_enc_ohe.todense()[0:10]"
   ]
  },
  {
   "cell_type": "code",
   "execution_count": 56,
   "metadata": {},
   "outputs": [
    {
     "data": {
      "text/html": [
       "<div>\n",
       "<style scoped>\n",
       "    .dataframe tbody tr th:only-of-type {\n",
       "        vertical-align: middle;\n",
       "    }\n",
       "\n",
       "    .dataframe tbody tr th {\n",
       "        vertical-align: top;\n",
       "    }\n",
       "\n",
       "    .dataframe thead th {\n",
       "        text-align: right;\n",
       "    }\n",
       "</style>\n",
       "<table border=\"1\" class=\"dataframe\">\n",
       "  <thead>\n",
       "    <tr style=\"text-align: right;\">\n",
       "      <th></th>\n",
       "      <th>c1</th>\n",
       "    </tr>\n",
       "  </thead>\n",
       "  <tbody>\n",
       "    <tr>\n",
       "      <th>0</th>\n",
       "      <td>3093.0</td>\n",
       "    </tr>\n",
       "    <tr>\n",
       "      <th>1</th>\n",
       "      <td>2496.0</td>\n",
       "    </tr>\n",
       "    <tr>\n",
       "      <th>2</th>\n",
       "      <td>1565.0</td>\n",
       "    </tr>\n",
       "    <tr>\n",
       "      <th>3</th>\n",
       "      <td>1316.0</td>\n",
       "    </tr>\n",
       "    <tr>\n",
       "      <th>4</th>\n",
       "      <td>1237.0</td>\n",
       "    </tr>\n",
       "    <tr>\n",
       "      <th>5</th>\n",
       "      <td>1231.0</td>\n",
       "    </tr>\n",
       "    <tr>\n",
       "      <th>6</th>\n",
       "      <td>1121.0</td>\n",
       "    </tr>\n",
       "    <tr>\n",
       "      <th>7</th>\n",
       "      <td>1095.0</td>\n",
       "    </tr>\n",
       "    <tr>\n",
       "      <th>8</th>\n",
       "      <td>1075.0</td>\n",
       "    </tr>\n",
       "    <tr>\n",
       "      <th>9</th>\n",
       "      <td>1028.0</td>\n",
       "    </tr>\n",
       "  </tbody>\n",
       "</table>\n",
       "</div>"
      ],
      "text/plain": [
       "       c1\n",
       "0  3093.0\n",
       "1  2496.0\n",
       "2  1565.0\n",
       "3  1316.0\n",
       "4  1237.0\n",
       "5  1231.0\n",
       "6  1121.0\n",
       "7  1095.0\n",
       "8  1075.0\n",
       "9  1028.0"
      ]
     },
     "execution_count": 56,
     "metadata": {},
     "output_type": "execute_result"
    }
   ],
   "source": [
    "cat_enc.head(10)"
   ]
  },
  {
   "cell_type": "code",
   "execution_count": 57,
   "metadata": {},
   "outputs": [
    {
     "data": {
      "text/html": [
       "<div>\n",
       "<style scoped>\n",
       "    .dataframe tbody tr th:only-of-type {\n",
       "        vertical-align: middle;\n",
       "    }\n",
       "\n",
       "    .dataframe tbody tr th {\n",
       "        vertical-align: top;\n",
       "    }\n",
       "\n",
       "    .dataframe thead th {\n",
       "        text-align: right;\n",
       "    }\n",
       "</style>\n",
       "<table border=\"1\" class=\"dataframe\">\n",
       "  <thead>\n",
       "    <tr style=\"text-align: right;\">\n",
       "      <th></th>\n",
       "      <th>c1</th>\n",
       "    </tr>\n",
       "  </thead>\n",
       "  <tbody>\n",
       "    <tr>\n",
       "      <th>0</th>\n",
       "      <td>3093.0</td>\n",
       "    </tr>\n",
       "    <tr>\n",
       "      <th>1</th>\n",
       "      <td>2496.0</td>\n",
       "    </tr>\n",
       "    <tr>\n",
       "      <th>2</th>\n",
       "      <td>1565.0</td>\n",
       "    </tr>\n",
       "    <tr>\n",
       "      <th>3</th>\n",
       "      <td>1316.0</td>\n",
       "    </tr>\n",
       "    <tr>\n",
       "      <th>4</th>\n",
       "      <td>1237.0</td>\n",
       "    </tr>\n",
       "  </tbody>\n",
       "</table>\n",
       "</div>"
      ],
      "text/plain": [
       "       c1\n",
       "0  3093.0\n",
       "1  2496.0\n",
       "2  1565.0\n",
       "3  1316.0\n",
       "4  1237.0"
      ]
     },
     "execution_count": 57,
     "metadata": {},
     "output_type": "execute_result"
    }
   ],
   "source": [
    "pd.get_dummies(cat_enc).head()"
   ]
  },
  {
   "cell_type": "code",
   "execution_count": 58,
   "metadata": {},
   "outputs": [
    {
     "data": {
      "text/html": [
       "<div>\n",
       "<style scoped>\n",
       "    .dataframe tbody tr th:only-of-type {\n",
       "        vertical-align: middle;\n",
       "    }\n",
       "\n",
       "    .dataframe tbody tr th {\n",
       "        vertical-align: top;\n",
       "    }\n",
       "\n",
       "    .dataframe thead th {\n",
       "        text-align: right;\n",
       "    }\n",
       "</style>\n",
       "<table border=\"1\" class=\"dataframe\">\n",
       "  <thead>\n",
       "    <tr style=\"text-align: right;\">\n",
       "      <th></th>\n",
       "      <th>APPEARANCES</th>\n",
       "    </tr>\n",
       "  </thead>\n",
       "  <tbody>\n",
       "    <tr>\n",
       "      <th>0</th>\n",
       "      <td>3093.0</td>\n",
       "    </tr>\n",
       "    <tr>\n",
       "      <th>1</th>\n",
       "      <td>2496.0</td>\n",
       "    </tr>\n",
       "    <tr>\n",
       "      <th>2</th>\n",
       "      <td>1565.0</td>\n",
       "    </tr>\n",
       "    <tr>\n",
       "      <th>3</th>\n",
       "      <td>1316.0</td>\n",
       "    </tr>\n",
       "    <tr>\n",
       "      <th>4</th>\n",
       "      <td>1237.0</td>\n",
       "    </tr>\n",
       "  </tbody>\n",
       "</table>\n",
       "</div>"
      ],
      "text/plain": [
       "   APPEARANCES\n",
       "0       3093.0\n",
       "1       2496.0\n",
       "2       1565.0\n",
       "3       1316.0\n",
       "4       1237.0"
      ]
     },
     "execution_count": 58,
     "metadata": {},
     "output_type": "execute_result"
    }
   ],
   "source": [
    "\n",
    "pd.get_dummies(cat_temp_data, dummy_na=True).head()"
   ]
  },
  {
   "cell_type": "markdown",
   "metadata": {},
   "source": [
    "3 - Масштабирование данных"
   ]
  },
  {
   "cell_type": "code",
   "execution_count": 59,
   "metadata": {},
   "outputs": [],
   "source": [
    "from sklearn.preprocessing import MinMaxScaler, StandardScaler, Normalizer"
   ]
  },
  {
   "cell_type": "code",
   "execution_count": 61,
   "metadata": {},
   "outputs": [],
   "source": [
    "\n",
    "sc1 = MinMaxScaler()\n",
    "sc1_data = sc1.fit_transform(data[['APPEARANCES']])"
   ]
  },
  {
   "cell_type": "code",
   "execution_count": 62,
   "metadata": {},
   "outputs": [
    {
     "name": "stderr",
     "output_type": "stream",
     "text": [
      "C:\\ProgramData\\Anaconda3\\lib\\site-packages\\numpy\\lib\\histograms.py:839: RuntimeWarning: invalid value encountered in greater_equal\n",
      "  keep = (tmp_a >= first_edge)\n",
      "C:\\ProgramData\\Anaconda3\\lib\\site-packages\\numpy\\lib\\histograms.py:840: RuntimeWarning: invalid value encountered in less_equal\n",
      "  keep &= (tmp_a <= last_edge)\n"
     ]
    },
    {
     "data": {
      "image/png": "[encoded data removed]",
      "text/plain": [
       "<Figure size 432x288 with 1 Axes>"
      ]
     },
     "metadata": {},
     "output_type": "display_data"
    }
   ],
   "source": [
    "plt.hist(data['APPEARANCES'], 50)\n",
    "plt.show()"
   ]
  },
  {
   "cell_type": "code",
   "execution_count": 63,
   "metadata": {},
   "outputs": [
    {
     "data": {
      "image/png": "[encoded data removed]",
      "text/plain": [
       "<Figure size 432x288 with 1 Axes>"
      ]
     },
     "metadata": {},
     "output_type": "display_data"
    }
   ],
   "source": [
    "plt.hist(sc1_data, 50)\n",
    "plt.show()"
   ]
  },
  {
   "cell_type": "code",
   "execution_count": 65,
   "metadata": {},
   "outputs": [],
   "source": [
    "sc2 = StandardScaler()\n",
    "sc2_data = sc2.fit_transform(data[['APPEARANCES']])"
   ]
  },
  {
   "cell_type": "code",
   "execution_count": 66,
   "metadata": {},
   "outputs": [
    {
     "name": "stderr",
     "output_type": "stream",
     "text": [
      "C:\\ProgramData\\Anaconda3\\lib\\site-packages\\numpy\\lib\\histograms.py:839: RuntimeWarning: invalid value encountered in greater_equal\n",
      "  keep = (tmp_a >= first_edge)\n",
      "C:\\ProgramData\\Anaconda3\\lib\\site-packages\\numpy\\lib\\histograms.py:840: RuntimeWarning: invalid value encountered in less_equal\n",
      "  keep &= (tmp_a <= last_edge)\n"
     ]
    },
    {
     "data": {
      "image/png": "[encoded data removed]",
      "text/plain": [
       "<Figure size 432x288 with 1 Axes>"
      ]
     },
     "metadata": {},
     "output_type": "display_data"
    }
   ],
   "source": [
    "plt.hist(sc2_data, 50)\n",
    "plt.show()"
   ]
  },
  {
   "cell_type": "code",
   "execution_count": null,
   "metadata": {},
   "outputs": [],
   "source": []
  }
 ],
 "metadata": {
  "kernelspec": {
   "display_name": "Python 3",
   "language": "python",
   "name": "python3"
  },
  "language_info": {
   "codemirror_mode": {
    "name": "ipython",
    "version": 3
   },
   "file_extension": ".py",
   "mimetype": "text/x-python",
   "name": "python",
   "nbconvert_exporter": "python",
   "pygments_lexer": "ipython3",
   "version": "3.7.6"
  }
 },
 "nbformat": 4,
 "nbformat_minor": 4
}
